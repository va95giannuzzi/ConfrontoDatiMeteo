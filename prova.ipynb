{
 "cells": [
  {
   "cell_type": "code",
   "execution_count": 51,
   "id": "32cd05ce",
   "metadata": {},
   "outputs": [
    {
     "name": "stdout",
     "output_type": "stream",
     "text": [
      "dict_keys(['number', 'valid_time', 'latitude', 'longitude', 'expver', 'd2m', 't2m', 'sp', 'tp'])\n"
     ]
    }
   ],
   "source": [
    "\n",
    "from netCDF4 import Dataset, num2date\n",
    "import pandas as pd\n",
    "import numpy as np\n",
    "import xarray as xr\n",
    "nc_file = 'sorga_12.nc'\n",
    "#ds = xr.open_dataset('bra_2022_02.nc', engine='cfgrib')\n",
    "ds = Dataset(nc_file, mode='r')\n",
    "print(ds.variables.keys())"
   ]
  },
  {
   "cell_type": "code",
   "execution_count": 31,
   "id": "c1a6a0d8",
   "metadata": {},
   "outputs": [],
   "source": [
    "import numpy as np\n",
    "\n",
    "def compute_relative_humidity(temp_c, dewpoint_c):\n",
    "    \"\"\"\n",
    "    Calculate relative humidity (%) from temperature and dew point (in Celsius).\n",
    "    Uses the Magnus formula.\n",
    "    \"\"\"\n",
    "    a, b = 17.625, 243.04\n",
    "    rh = 100 * (np.exp((a * dewpoint_c) / (b + dewpoint_c)) /\n",
    "                np.exp((a * temp_c) / (b + temp_c)))\n",
    "    return np.clip(rh, 0, 100)  # Ensure RH is within 0-100%"
   ]
  },
  {
   "cell_type": "code",
   "execution_count": 29,
   "id": "0ee45f7e",
   "metadata": {},
   "outputs": [],
   "source": [
    "temperature = ds.variables['t2m'][:]       # shape: (time, lat, lon)\n",
    "time = ds.variables['valid_time']\n",
    "precipitations = ds.variables['tp'][:]\n",
    "dewpoint = ds.variables['d2m'][:]\n",
    "lat = ds.variables['latitude'][:]\n",
    "lon = ds.variables['longitude'][:]\n",
    "\n",
    "# Convert time units to datetime objects\n",
    "time_units = time.units\n",
    "time_calendar = time.calendar if hasattr(time, 'calendar') else 'standard'\n",
    "dates = num2date(time[:], units=time_units, calendar=time_calendar)\n",
    "\n",
    "# Reshape data: (time, lat, lon) -> flat table\n",
    "times, lats, lons = np.meshgrid(dates, lat, lon, indexing='ij')\n",
    "data_flat = {\n",
    "    'time': times.ravel(),\n",
    "    'latitude': lats.ravel(),\n",
    "    'longitude': lons.ravel(),\n",
    "    't2m': temperature.ravel(),\n",
    "    'tp':precipitations.ravel(),\n",
    "    'd2m': dewpoint.ravel()\n",
    "}\n",
    "\n",
    "# Create DataFrame\n",
    "df = pd.DataFrame(data_flat)\n",
    "\n",
    "# Optional: Convert temperature from Kelvin to Celsius\n",
    "df['t2m'] = df['t2m'] - 273.15\n",
    "df['d2m'] =df['d2m'] - 273.15\n",
    "df['tp'] = df['tp']*1000\n",
    "df['rh'] = compute_relative_humidity(temp_c = df['t2m'], dewpoint_c=df['d2m'])\n",
    "\n"
   ]
  },
  {
   "cell_type": "code",
   "execution_count": 32,
   "id": "4b0b0605",
   "metadata": {},
   "outputs": [],
   "source": [
    "temperature = ds.variables['t2m'][:]       # shape: (time, lat, lon)\n",
    "time = ds.variables['valid_time']\n",
    "precipitations = ds.variables['tp'][:]\n",
    "dewpoint = ds.variables['d2m'][:]\n",
    "lat = ds.variables['latitude'][:]\n",
    "lon = ds.variables['longitude'][:]\n",
    "\n",
    "# Convert time units to datetime objects\n",
    "time_units = time.units\n",
    "time_calendar = time.calendar if hasattr(time, 'calendar') else 'standard'\n",
    "dates = num2date(time[:], units=time_units, calendar=time_calendar)\n",
    "\n",
    "# Reshape data: (time, lat, lon) -> flat table\n",
    "times, lats, lons = np.meshgrid(dates, lat, lon, indexing='ij')\n",
    "data_flat = {\n",
    "    'time': times.ravel(),\n",
    "    'latitude': lats.ravel(),\n",
    "    'longitude': lons.ravel(),\n",
    "    't2m': temperature.ravel(),\n",
    "    'tp':precipitations.ravel(),\n",
    "    'd2m': dewpoint.ravel()\n",
    "}\n",
    "\n",
    "df1 = pd.DataFrame(data_flat)\n",
    "\n",
    "# Optional: Convert temperature from Kelvin to Celsius\n",
    "df1['t2m'] = df1['t2m'] - 273.15\n",
    "df1['d2m'] =df1['d2m'] - 273.15\n",
    "df1['tp'] = df1['tp']*1000\n",
    "df1['rh'] = compute_relative_humidity(temp_c = df1['t2m'], dewpoint_c=df1['d2m'])\n",
    "\n"
   ]
  },
  {
   "cell_type": "code",
   "execution_count": 34,
   "id": "6305302a",
   "metadata": {},
   "outputs": [],
   "source": [
    "temperature = ds.variables['t2m'][:]       # shape: (time, lat, lon)\n",
    "time = ds.variables['valid_time']\n",
    "precipitations = ds.variables['tp'][:]\n",
    "dewpoint = ds.variables['d2m'][:]\n",
    "lat = ds.variables['latitude'][:]\n",
    "lon = ds.variables['longitude'][:]\n",
    "\n",
    "# Convert time units to datetime objects\n",
    "time_units = time.units\n",
    "time_calendar = time.calendar if hasattr(time, 'calendar') else 'standard'\n",
    "dates = num2date(time[:], units=time_units, calendar=time_calendar)\n",
    "\n",
    "# Reshape data: (time, lat, lon) -> flat table\n",
    "times, lats, lons = np.meshgrid(dates, lat, lon, indexing='ij')\n",
    "data_flat = {\n",
    "    'time': times.ravel(),\n",
    "    'latitude': lats.ravel(),\n",
    "    'longitude': lons.ravel(),\n",
    "    't2m': temperature.ravel(),\n",
    "    'tp':precipitations.ravel(),\n",
    "    'd2m': dewpoint.ravel()\n",
    "}\n",
    "\n",
    "df2 = pd.DataFrame(data_flat)\n",
    "\n",
    "# Optional: Convert temperature from Kelvin to Celsius\n",
    "df2['t2m'] = df2['t2m'] - 273.15\n",
    "df2['d2m'] =df2['d2m'] - 273.15\n",
    "df2['tp'] = df2['tp']*1000\n",
    "df2['rh'] = compute_relative_humidity(temp_c = df2['t2m'], dewpoint_c=df2['d2m'])"
   ]
  },
  {
   "cell_type": "code",
   "execution_count": 36,
   "id": "26b2b3b2",
   "metadata": {},
   "outputs": [],
   "source": [
    "temperature = ds.variables['t2m'][:]       # shape: (time, lat, lon)\n",
    "time = ds.variables['valid_time']\n",
    "precipitations = ds.variables['tp'][:]\n",
    "dewpoint = ds.variables['d2m'][:]\n",
    "lat = ds.variables['latitude'][:]\n",
    "lon = ds.variables['longitude'][:]\n",
    "\n",
    "# Convert time units to datetime objects\n",
    "time_units = time.units\n",
    "time_calendar = time.calendar if hasattr(time, 'calendar') else 'standard'\n",
    "dates = num2date(time[:], units=time_units, calendar=time_calendar)\n",
    "\n",
    "# Reshape data: (time, lat, lon) -> flat table\n",
    "times, lats, lons = np.meshgrid(dates, lat, lon, indexing='ij')\n",
    "data_flat = {\n",
    "    'time': times.ravel(),\n",
    "    'latitude': lats.ravel(),\n",
    "    'longitude': lons.ravel(),\n",
    "    't2m': temperature.ravel(),\n",
    "    'tp':precipitations.ravel(),\n",
    "    'd2m': dewpoint.ravel()\n",
    "}\n",
    "\n",
    "df3 = pd.DataFrame(data_flat)\n",
    "\n",
    "# Optional: Convert temperature from Kelvin to Celsius\n",
    "df3['t2m'] = df3['t2m'] - 273.15\n",
    "df3['d2m'] =df3['d2m'] - 273.15\n",
    "df3['tp'] = df3['tp']*1000\n",
    "df3['rh'] = compute_relative_humidity(temp_c = df3['t2m'], dewpoint_c=df3['d2m'])"
   ]
  },
  {
   "cell_type": "code",
   "execution_count": 38,
   "id": "432fab2e",
   "metadata": {},
   "outputs": [],
   "source": [
    "temperature = ds.variables['t2m'][:]       # shape: (time, lat, lon)\n",
    "time = ds.variables['valid_time']\n",
    "precipitations = ds.variables['tp'][:]\n",
    "dewpoint = ds.variables['d2m'][:]\n",
    "lat = ds.variables['latitude'][:]\n",
    "lon = ds.variables['longitude'][:]\n",
    "\n",
    "# Convert time units to datetime objects\n",
    "time_units = time.units\n",
    "time_calendar = time.calendar if hasattr(time, 'calendar') else 'standard'\n",
    "dates = num2date(time[:], units=time_units, calendar=time_calendar)\n",
    "\n",
    "# Reshape data: (time, lat, lon) -> flat table\n",
    "times, lats, lons = np.meshgrid(dates, lat, lon, indexing='ij')\n",
    "data_flat = {\n",
    "    'time': times.ravel(),\n",
    "    'latitude': lats.ravel(),\n",
    "    'longitude': lons.ravel(),\n",
    "    't2m': temperature.ravel(),\n",
    "    'tp':precipitations.ravel(),\n",
    "    'd2m': dewpoint.ravel()\n",
    "}\n",
    "\n",
    "df4 = pd.DataFrame(data_flat)\n",
    "\n",
    "# Optional: Convert temperature from Kelvin to Celsius\n",
    "df4['t2m'] = df4['t2m'] - 273.15\n",
    "df4['d2m'] =df4['d2m'] - 273.15\n",
    "df4['tp'] = df4['tp']*1000\n",
    "df4['rh'] = compute_relative_humidity(temp_c = df4['t2m'], dewpoint_c=df4['d2m'])"
   ]
  },
  {
   "cell_type": "code",
   "execution_count": 40,
   "id": "996a5772",
   "metadata": {},
   "outputs": [],
   "source": [
    "temperature = ds.variables['t2m'][:]       # shape: (time, lat, lon)\n",
    "time = ds.variables['valid_time']\n",
    "precipitations = ds.variables['tp'][:]\n",
    "dewpoint = ds.variables['d2m'][:]\n",
    "lat = ds.variables['latitude'][:]\n",
    "lon = ds.variables['longitude'][:]\n",
    "\n",
    "# Convert time units to datetime objects\n",
    "time_units = time.units\n",
    "time_calendar = time.calendar if hasattr(time, 'calendar') else 'standard'\n",
    "dates = num2date(time[:], units=time_units, calendar=time_calendar)\n",
    "\n",
    "# Reshape data: (time, lat, lon) -> flat table\n",
    "times, lats, lons = np.meshgrid(dates, lat, lon, indexing='ij')\n",
    "data_flat = {\n",
    "    'time': times.ravel(),\n",
    "    'latitude': lats.ravel(),\n",
    "    'longitude': lons.ravel(),\n",
    "    't2m': temperature.ravel(),\n",
    "    'tp':precipitations.ravel(),\n",
    "    'd2m': dewpoint.ravel()\n",
    "}\n",
    "\n",
    "df5 = pd.DataFrame(data_flat)\n",
    "\n",
    "# Optional: Convert temperature from Kelvin to Celsius\n",
    "df5['t2m'] = df5['t2m'] - 273.15\n",
    "df5['d2m'] =df5['d2m'] - 273.15\n",
    "df5['tp'] = df5['tp']*1000\n",
    "df5['rh'] = compute_relative_humidity(temp_c = df5['t2m'], dewpoint_c=df5['d2m'])"
   ]
  },
  {
   "cell_type": "code",
   "execution_count": 42,
   "id": "e061f489",
   "metadata": {},
   "outputs": [],
   "source": [
    "temperature = ds.variables['t2m'][:]       # shape: (time, lat, lon)\n",
    "time = ds.variables['valid_time']\n",
    "precipitations = ds.variables['tp'][:]\n",
    "dewpoint = ds.variables['d2m'][:]\n",
    "lat = ds.variables['latitude'][:]\n",
    "lon = ds.variables['longitude'][:]\n",
    "\n",
    "# Convert time units to datetime objects\n",
    "time_units = time.units\n",
    "time_calendar = time.calendar if hasattr(time, 'calendar') else 'standard'\n",
    "dates = num2date(time[:], units=time_units, calendar=time_calendar)\n",
    "\n",
    "# Reshape data: (time, lat, lon) -> flat table\n",
    "times, lats, lons = np.meshgrid(dates, lat, lon, indexing='ij')\n",
    "data_flat = {\n",
    "    'time': times.ravel(),\n",
    "    'latitude': lats.ravel(),\n",
    "    'longitude': lons.ravel(),\n",
    "    't2m': temperature.ravel(),\n",
    "    'tp':precipitations.ravel(),\n",
    "    'd2m': dewpoint.ravel()\n",
    "}\n",
    "\n",
    "df6 = pd.DataFrame(data_flat)\n",
    "\n",
    "# Optional: Convert temperature from Kelvin to Celsius\n",
    "df6['t2m'] = df6['t2m'] - 273.15\n",
    "df6['d2m'] =df6['d2m'] - 273.15\n",
    "df6['tp'] = df6['tp']*1000\n",
    "df6['rh'] = compute_relative_humidity(temp_c = df6['t2m'], dewpoint_c=df6['d2m'])"
   ]
  },
  {
   "cell_type": "code",
   "execution_count": 44,
   "id": "cbda3ba3",
   "metadata": {},
   "outputs": [],
   "source": [
    "temperature = ds.variables['t2m'][:]       # shape: (time, lat, lon)\n",
    "time = ds.variables['valid_time']\n",
    "precipitations = ds.variables['tp'][:]\n",
    "dewpoint = ds.variables['d2m'][:]\n",
    "lat = ds.variables['latitude'][:]\n",
    "lon = ds.variables['longitude'][:]\n",
    "\n",
    "# Convert time units to datetime objects\n",
    "time_units = time.units\n",
    "time_calendar = time.calendar if hasattr(time, 'calendar') else 'standard'\n",
    "dates = num2date(time[:], units=time_units, calendar=time_calendar)\n",
    "\n",
    "# Reshape data: (time, lat, lon) -> flat table\n",
    "times, lats, lons = np.meshgrid(dates, lat, lon, indexing='ij')\n",
    "data_flat = {\n",
    "    'time': times.ravel(),\n",
    "    'latitude': lats.ravel(),\n",
    "    'longitude': lons.ravel(),\n",
    "    't2m': temperature.ravel(),\n",
    "    'tp':precipitations.ravel(),\n",
    "    'd2m': dewpoint.ravel()\n",
    "}\n",
    "\n",
    "df7 = pd.DataFrame(data_flat)\n",
    "\n",
    "# Optional: Convert temperature from Kelvin to Celsius\n",
    "df7['t2m'] = df7['t2m'] - 273.15\n",
    "df7['d2m'] =df7['d2m'] - 273.15\n",
    "df7['tp'] = df7['tp']*1000\n",
    "df7['rh'] = compute_relative_humidity(temp_c = df7['t2m'], dewpoint_c=df7['d2m'])"
   ]
  },
  {
   "cell_type": "code",
   "execution_count": 46,
   "id": "382c733b",
   "metadata": {},
   "outputs": [],
   "source": [
    "temperature = ds.variables['t2m'][:]       # shape: (time, lat, lon)\n",
    "time = ds.variables['valid_time']\n",
    "precipitations = ds.variables['tp'][:]\n",
    "dewpoint = ds.variables['d2m'][:]\n",
    "lat = ds.variables['latitude'][:]\n",
    "lon = ds.variables['longitude'][:]\n",
    "\n",
    "# Convert time units to datetime objects\n",
    "time_units = time.units\n",
    "time_calendar = time.calendar if hasattr(time, 'calendar') else 'standard'\n",
    "dates = num2date(time[:], units=time_units, calendar=time_calendar)\n",
    "\n",
    "# Reshape data: (time, lat, lon) -> flat table\n",
    "times, lats, lons = np.meshgrid(dates, lat, lon, indexing='ij')\n",
    "data_flat = {\n",
    "    'time': times.ravel(),\n",
    "    'latitude': lats.ravel(),\n",
    "    'longitude': lons.ravel(),\n",
    "    't2m': temperature.ravel(),\n",
    "    'tp':precipitations.ravel(),\n",
    "    'd2m': dewpoint.ravel()\n",
    "}\n",
    "\n",
    "df8 = pd.DataFrame(data_flat)\n",
    "\n",
    "# Optional: Convert temperature from Kelvin to Celsius\n",
    "df8['t2m'] = df8['t2m'] - 273.15\n",
    "df8['d2m'] =df8['d2m'] - 273.15\n",
    "df8['tp'] = df8['tp']*1000\n",
    "df8['rh'] = compute_relative_humidity(temp_c = df8['t2m'], dewpoint_c=df8['d2m'])"
   ]
  },
  {
   "cell_type": "code",
   "execution_count": 48,
   "id": "ae904c1c",
   "metadata": {},
   "outputs": [],
   "source": [
    "temperature = ds.variables['t2m'][:]       # shape: (time, lat, lon)\n",
    "time = ds.variables['valid_time']\n",
    "precipitations = ds.variables['tp'][:]\n",
    "dewpoint = ds.variables['d2m'][:]\n",
    "lat = ds.variables['latitude'][:]\n",
    "lon = ds.variables['longitude'][:]\n",
    "\n",
    "# Convert time units to datetime objects\n",
    "time_units = time.units\n",
    "time_calendar = time.calendar if hasattr(time, 'calendar') else 'standard'\n",
    "dates = num2date(time[:], units=time_units, calendar=time_calendar)\n",
    "\n",
    "# Reshape data: (time, lat, lon) -> flat table\n",
    "times, lats, lons = np.meshgrid(dates, lat, lon, indexing='ij')\n",
    "data_flat = {\n",
    "    'time': times.ravel(),\n",
    "    'latitude': lats.ravel(),\n",
    "    'longitude': lons.ravel(),\n",
    "    't2m': temperature.ravel(),\n",
    "    'tp':precipitations.ravel(),\n",
    "    'd2m': dewpoint.ravel()\n",
    "}\n",
    "\n",
    "df9 = pd.DataFrame(data_flat)\n",
    "\n",
    "# Optional: Convert temperature from Kelvin to Celsius\n",
    "df9['t2m'] = df9['t2m'] - 273.15\n",
    "df9['d2m'] =df9['d2m'] - 273.15\n",
    "df9['tp'] = df9['tp']*1000\n",
    "df9['rh'] = compute_relative_humidity(temp_c = df9['t2m'], dewpoint_c=df9['d2m'])"
   ]
  },
  {
   "cell_type": "code",
   "execution_count": 50,
   "id": "a030a798",
   "metadata": {},
   "outputs": [],
   "source": [
    "temperature = ds.variables['t2m'][:]       # shape: (time, lat, lon)\n",
    "time = ds.variables['valid_time']\n",
    "precipitations = ds.variables['tp'][:]\n",
    "dewpoint = ds.variables['d2m'][:]\n",
    "lat = ds.variables['latitude'][:]\n",
    "lon = ds.variables['longitude'][:]\n",
    "\n",
    "# Convert time units to datetime objects\n",
    "time_units = time.units\n",
    "time_calendar = time.calendar if hasattr(time, 'calendar') else 'standard'\n",
    "dates = num2date(time[:], units=time_units, calendar=time_calendar)\n",
    "\n",
    "# Reshape data: (time, lat, lon) -> flat table\n",
    "times, lats, lons = np.meshgrid(dates, lat, lon, indexing='ij')\n",
    "data_flat = {\n",
    "    'time': times.ravel(),\n",
    "    'latitude': lats.ravel(),\n",
    "    'longitude': lons.ravel(),\n",
    "    't2m': temperature.ravel(),\n",
    "    'tp':precipitations.ravel(),\n",
    "    'd2m': dewpoint.ravel()\n",
    "}\n",
    "\n",
    "df10 = pd.DataFrame(data_flat)\n",
    "\n",
    "# Optional: Convert temperature from Kelvin to Celsius\n",
    "df10['t2m'] = df10['t2m'] - 273.15\n",
    "df10['d2m'] =df10['d2m'] - 273.15\n",
    "df10['tp'] = df10['tp']*1000\n",
    "df10['rh'] = compute_relative_humidity(temp_c = df10['t2m'], dewpoint_c=df10['d2m'])"
   ]
  },
  {
   "cell_type": "code",
   "execution_count": 52,
   "id": "1946ae8b",
   "metadata": {},
   "outputs": [],
   "source": [
    "temperature = ds.variables['t2m'][:]       # shape: (time, lat, lon)\n",
    "time = ds.variables['valid_time']\n",
    "precipitations = ds.variables['tp'][:]\n",
    "dewpoint = ds.variables['d2m'][:]\n",
    "lat = ds.variables['latitude'][:]\n",
    "lon = ds.variables['longitude'][:]\n",
    "\n",
    "# Convert time units to datetime objects\n",
    "time_units = time.units\n",
    "time_calendar = time.calendar if hasattr(time, 'calendar') else 'standard'\n",
    "dates = num2date(time[:], units=time_units, calendar=time_calendar)\n",
    "\n",
    "# Reshape data: (time, lat, lon) -> flat table\n",
    "times, lats, lons = np.meshgrid(dates, lat, lon, indexing='ij')\n",
    "data_flat = {\n",
    "    'time': times.ravel(),\n",
    "    'latitude': lats.ravel(),\n",
    "    'longitude': lons.ravel(),\n",
    "    't2m': temperature.ravel(),\n",
    "    'tp':precipitations.ravel(),\n",
    "    'd2m': dewpoint.ravel()\n",
    "}\n",
    "\n",
    "df11 = pd.DataFrame(data_flat)\n",
    "\n",
    "# Optional: Convert temperature from Kelvin to Celsius\n",
    "df11['t2m'] = df11['t2m'] - 273.15\n",
    "df11['d2m'] =df11['d2m'] - 273.15\n",
    "df11['tp'] = df11['tp']*1000\n",
    "df11['rh'] = compute_relative_humidity(temp_c = df11['t2m'], dewpoint_c=df11['d2m'])"
   ]
  },
  {
   "cell_type": "code",
   "execution_count": 53,
   "id": "69c9d12f",
   "metadata": {},
   "outputs": [],
   "source": [
    "#export file mensile excel oppure si fa append caricando i rispettivi dati mensili .nc\n",
    "sorga = pd.concat([df, df1, df2, df3, df4, df5, df6, df7, df8, df9, df10,df11], ignore_index=True)"
   ]
  },
  {
   "cell_type": "code",
   "execution_count": null,
   "id": "c7aaa58e",
   "metadata": {},
   "outputs": [
    {
     "name": "stderr",
     "output_type": "stream",
     "text": [
      "2025-06-06 16:14:43,533 INFO [2024-09-26T00:00:00] Watch our [Forum](https://forum.ecmwf.int/) for Announcements, news and other discussed topics.\n"
     ]
    },
    {
     "name": "stdout",
     "output_type": "stream",
     "text": [
      "Downloading era5_2022\\ospe_euganeo_2022_01.nc...\n"
     ]
    },
    {
     "name": "stderr",
     "output_type": "stream",
     "text": [
      "2025-06-06 16:14:43,813 INFO Request ID is 11288575-f04a-4499-8e24-af2cec148790\n",
      "2025-06-06 16:14:43,907 INFO status has been updated to accepted\n",
      "2025-06-06 16:15:16,807 INFO status has been updated to running\n",
      "2025-06-06 16:23:03,446 INFO status has been updated to successful\n",
      "                                                                                          \r"
     ]
    },
    {
     "name": "stdout",
     "output_type": "stream",
     "text": [
      "Downloading era5_2022\\ospe_euganeo_2022_02.nc...\n"
     ]
    },
    {
     "name": "stderr",
     "output_type": "stream",
     "text": [
      "2025-06-06 16:23:06,695 INFO Request ID is bc23e6b2-d2fe-4783-89a5-0bdafc9f74b9\n",
      "2025-06-06 16:23:06,785 INFO status has been updated to accepted\n",
      "2025-06-06 16:23:20,297 INFO status has been updated to running\n",
      "2025-06-06 16:31:30,966 INFO status has been updated to successful\n",
      "                                                                                          \r"
     ]
    },
    {
     "name": "stdout",
     "output_type": "stream",
     "text": [
      "Downloading era5_2022\\ospe_euganeo_2022_03.nc...\n"
     ]
    },
    {
     "name": "stderr",
     "output_type": "stream",
     "text": [
      "2025-06-06 16:31:33,545 INFO Request ID is 76f7e845-c2d0-4714-95a0-e03f734d1263\n",
      "2025-06-06 16:31:33,634 INFO status has been updated to accepted\n",
      "2025-06-06 16:31:47,285 INFO status has been updated to running\n",
      "2025-06-06 16:39:52,754 INFO status has been updated to successful\n",
      "                                                                                          \r"
     ]
    },
    {
     "name": "stdout",
     "output_type": "stream",
     "text": [
      "Downloading era5_2022\\ospe_euganeo_2022_04.nc...\n"
     ]
    },
    {
     "name": "stderr",
     "output_type": "stream",
     "text": [
      "2025-06-06 16:39:54,709 INFO Request ID is 3f5ed9d8-d7e5-4f09-a200-de0bd708920a\n",
      "2025-06-06 16:39:54,947 INFO status has been updated to accepted\n",
      "2025-06-06 16:40:00,521 INFO status has been updated to running\n",
      "2025-06-06 16:48:15,241 INFO status has been updated to successful\n",
      "                                                                                          \r"
     ]
    },
    {
     "name": "stdout",
     "output_type": "stream",
     "text": [
      "Downloading era5_2022\\ospe_euganeo_2022_05.nc...\n"
     ]
    },
    {
     "name": "stderr",
     "output_type": "stream",
     "text": [
      "2025-06-06 16:48:16,676 INFO Request ID is a69a2d3b-021b-406d-810f-617719e5a4b3\n",
      "2025-06-06 16:48:16,755 INFO status has been updated to accepted\n",
      "2025-06-06 16:48:25,241 INFO status has been updated to running\n",
      "2025-06-06 16:56:36,242 INFO status has been updated to successful\n",
      "                                                                                          \r"
     ]
    },
    {
     "name": "stdout",
     "output_type": "stream",
     "text": [
      "Downloading era5_2022\\ospe_euganeo_2022_06.nc...\n"
     ]
    },
    {
     "name": "stderr",
     "output_type": "stream",
     "text": [
      "2025-06-06 16:56:37,803 INFO Request ID is 6adeac9d-c6a1-48bb-b874-64926b17a9d2\n",
      "2025-06-06 16:56:37,884 INFO status has been updated to accepted\n",
      "2025-06-06 16:56:51,536 INFO status has been updated to running\n",
      "2025-06-06 17:06:57,189 INFO status has been updated to successful\n",
      "2025-06-06 17:06:58,936 INFO Request ID is 159e7687-3194-48b5-bfa6-6155ba43ae47           \n"
     ]
    },
    {
     "name": "stdout",
     "output_type": "stream",
     "text": [
      "Downloading era5_2022\\ospe_euganeo_2022_07.nc...\n"
     ]
    },
    {
     "name": "stderr",
     "output_type": "stream",
     "text": [
      "2025-06-06 17:06:59,133 INFO status has been updated to accepted\n",
      "2025-06-06 17:07:12,703 INFO status has been updated to running\n",
      "2025-06-06 17:17:23,312 INFO status has been updated to successful\n",
      "                                                                                          \r"
     ]
    },
    {
     "name": "stdout",
     "output_type": "stream",
     "text": [
      "Downloading era5_2022\\ospe_euganeo_2022_08.nc...\n"
     ]
    },
    {
     "name": "stderr",
     "output_type": "stream",
     "text": [
      "2025-06-06 17:17:27,973 INFO Request ID is e79dcc09-80a0-439b-946e-1df6dd0d6a5c\n",
      "2025-06-06 17:17:28,075 INFO status has been updated to accepted\n",
      "2025-06-06 17:17:36,758 INFO status has been updated to running\n",
      "2025-06-06 17:25:47,853 INFO status has been updated to successful\n",
      "2025-06-06 17:25:49,392 INFO Request ID is d2b812f0-03ad-42ea-ac4d-2bff3d3a0112           \n"
     ]
    },
    {
     "name": "stdout",
     "output_type": "stream",
     "text": [
      "Downloading era5_2022\\ospe_euganeo_2022_09.nc...\n"
     ]
    },
    {
     "name": "stderr",
     "output_type": "stream",
     "text": [
      "2025-06-06 17:25:49,480 INFO status has been updated to accepted\n",
      "2025-06-06 17:26:10,856 INFO status has been updated to running\n",
      "2025-06-06 17:34:13,579 INFO status has been updated to successful\n",
      "                                                                                          \r"
     ]
    },
    {
     "name": "stdout",
     "output_type": "stream",
     "text": [
      "Downloading era5_2022\\ospe_euganeo_2022_10.nc...\n"
     ]
    },
    {
     "name": "stderr",
     "output_type": "stream",
     "text": [
      "2025-06-06 17:34:15,270 INFO Request ID is c6020620-238d-4d82-b01b-6306a11d8fad\n",
      "2025-06-06 17:34:15,347 INFO status has been updated to accepted\n",
      "2025-06-06 17:35:05,238 INFO status has been updated to running\n",
      "2025-06-06 17:44:35,139 INFO status has been updated to successful\n",
      "                                                                                          \r"
     ]
    },
    {
     "name": "stdout",
     "output_type": "stream",
     "text": [
      "Downloading era5_2022\\ospe_euganeo_2022_11.nc...\n"
     ]
    },
    {
     "name": "stderr",
     "output_type": "stream",
     "text": [
      "2025-06-06 17:44:36,792 INFO Request ID is e04c260d-46db-43f7-8c48-104562fa8b85\n",
      "2025-06-06 17:44:37,091 INFO status has been updated to accepted\n",
      "2025-06-06 17:45:09,796 INFO status has been updated to running\n",
      "2025-06-06 17:53:01,200 INFO status has been updated to successful\n",
      "                                                                                          \r"
     ]
    },
    {
     "name": "stdout",
     "output_type": "stream",
     "text": [
      "Downloading era5_2022\\ospe_euganeo_2022_12.nc...\n"
     ]
    },
    {
     "name": "stderr",
     "output_type": "stream",
     "text": [
      "2025-06-06 17:53:02,590 INFO Request ID is 4d3328cf-cf81-4518-b792-2a02be5d8094\n",
      "2025-06-06 17:53:03,060 INFO status has been updated to accepted\n",
      "2025-06-06 17:53:35,790 INFO status has been updated to running\n",
      "2025-06-06 18:03:22,383 INFO status has been updated to successful\n",
      "                                                                                          "
     ]
    },
    {
     "name": "stdout",
     "output_type": "stream",
     "text": [
      "✅ Download completed for all months.\n"
     ]
    },
    {
     "name": "stderr",
     "output_type": "stream",
     "text": [
      "\r"
     ]
    }
   ],
   "source": [
    "# import cdsapi\n",
    "# import os\n",
    "\n",
    "# # Initialize client\n",
    "# client = cdsapi.Client()\n",
    "\n",
    "# # Year you want to download\n",
    "# year = 2022\n",
    "\n",
    "# # Define variables and fixed request parts\n",
    "# dataset = \"reanalysis-era5-land\"\n",
    "# variables = [\n",
    "#     \"2m_dewpoint_temperature\",\n",
    "#     \"2m_temperature\",\n",
    "#     \"surface_pressure\",\n",
    "#     \"total_precipitation\"\n",
    "# ]\n",
    "# times = [f\"{hour:02d}:00\" for hour in range(24)]  # All 24 hours\n",
    "\n",
    "# # Latitude/Longitude bounds [N, W, S, E] #inserire il valore reale nei primi 2 valori\n",
    "# area = [45.224, 11.61, 45.223, 11.60]\n",
    "\n",
    "# # Create output directory if it doesn't exist\n",
    "# output_dir = f\"era5_{year}\"\n",
    "# os.makedirs(output_dir, exist_ok=True)\n",
    "\n",
    "# # Loop over each month\n",
    "# for month in range(1, 13):\n",
    "#     month_str = f\"{month:02d}\"\n",
    "    \n",
    "#     # Determine days in the month\n",
    "#     if month_str in ['01', '03', '05', '07', '08', '10', '12']:\n",
    "#         days = [f\"{day:02d}\" for day in range(1, 32)]\n",
    "#     elif month_str in ['04', '06', '09', '11']:\n",
    "#         days = [f\"{day:02d}\" for day in range(1, 31)]\n",
    "#     else:  # February (leap year check)\n",
    "#         days = [f\"{day:02d}\" for day in range(1, 30 if year % 4 == 0 and (year % 100 != 0 or year % 400 == 0) else 29)]\n",
    "\n",
    "#     # Prepare request\n",
    "#     request = {\n",
    "#         \"variable\": variables,\n",
    "#         \"year\": str(year),\n",
    "#         \"month\": month_str,\n",
    "#         \"day\": days,\n",
    "#         \"time\": times,\n",
    "#         \"format\": \"netcdf\",\n",
    "#         \"area\": area\n",
    "#     }\n",
    "\n",
    "#     # Output file name\n",
    "#     filename = os.path.join(output_dir, f\"ospe_euganeo_{year}_{month_str}.nc\")\n",
    "\n",
    "#     # Download\n",
    "#     print(f\"Downloading {filename}...\")\n",
    "#     client.retrieve(dataset, request).download(filename)\n",
    "\n",
    "# print(\"✅ Download completed for all months.\")"
   ]
  },
  {
   "cell_type": "code",
   "execution_count": null,
   "id": "56d8848f",
   "metadata": {},
   "outputs": [],
   "source": []
  },
  {
   "cell_type": "code",
   "execution_count": null,
   "id": "c42e2563",
   "metadata": {},
   "outputs": [],
   "source": []
  }
 ],
 "metadata": {
  "kernelspec": {
   "display_name": "Python 3",
   "language": "python",
   "name": "python3"
  },
  "language_info": {
   "codemirror_mode": {
    "name": "ipython",
    "version": 3
   },
   "file_extension": ".py",
   "mimetype": "text/x-python",
   "name": "python",
   "nbconvert_exporter": "python",
   "pygments_lexer": "ipython3",
   "version": "3.11.5"
  }
 },
 "nbformat": 4,
 "nbformat_minor": 5
}
