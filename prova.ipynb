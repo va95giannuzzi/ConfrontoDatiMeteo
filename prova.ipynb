{
 "cells": [
  {
   "cell_type": "code",
   "execution_count": 13,
   "id": "32cd05ce",
   "metadata": {},
   "outputs": [],
   "source": [
    "\n",
    "from netCDF4 import Dataset, num2date\n",
    "import pandas as pd\n",
    "import numpy as np\n",
    "import xarray as xr\n",
    "nc_file = 'gennaio.nc'\n",
    "#ds = xr.open_dataset('a492415c2645b30009ac40c242fa6287.nc', engine='cfgrib')\n",
    "ds = Dataset(nc_file, mode='r')"
   ]
  },
  {
   "cell_type": "code",
   "execution_count": 4,
   "id": "982b0e72",
   "metadata": {},
   "outputs": [
    {
     "ename": "OSError",
     "evalue": "[Errno -51] NetCDF: Unknown file format: 'gennaio'",
     "output_type": "error",
     "traceback": [
      "\u001b[1;31m---------------------------------------------------------------------------\u001b[0m",
      "\u001b[1;31mOSError\u001b[0m                                   Traceback (most recent call last)",
      "Cell \u001b[1;32mIn[4], line 6\u001b[0m\n\u001b[0;32m      3\u001b[0m \u001b[38;5;28;01mimport\u001b[39;00m \u001b[38;5;21;01mpandas\u001b[39;00m \u001b[38;5;28;01mas\u001b[39;00m \u001b[38;5;21;01mpd\u001b[39;00m\n\u001b[0;32m      5\u001b[0m \u001b[38;5;66;03m# Try opening the file\u001b[39;00m\n\u001b[1;32m----> 6\u001b[0m ds \u001b[38;5;241m=\u001b[39m \u001b[43mDataset\u001b[49m\u001b[43m(\u001b[49m\u001b[38;5;124;43m\"\u001b[39;49m\u001b[38;5;124;43mgennaio\u001b[39;49m\u001b[38;5;124;43m\"\u001b[39;49m\u001b[43m)\u001b[49m\n\u001b[0;32m      8\u001b[0m \u001b[38;5;66;03m# List variables\u001b[39;00m\n\u001b[0;32m      9\u001b[0m \u001b[38;5;28mprint\u001b[39m(ds\u001b[38;5;241m.\u001b[39mvariables\u001b[38;5;241m.\u001b[39mkeys())\n",
      "File \u001b[1;32msrc\\\\netCDF4\\\\_netCDF4.pyx:2521\u001b[0m, in \u001b[0;36mnetCDF4._netCDF4.Dataset.__init__\u001b[1;34m()\u001b[0m\n",
      "File \u001b[1;32msrc\\\\netCDF4\\\\_netCDF4.pyx:2158\u001b[0m, in \u001b[0;36mnetCDF4._netCDF4._ensure_nc_success\u001b[1;34m()\u001b[0m\n",
      "\u001b[1;31mOSError\u001b[0m: [Errno -51] NetCDF: Unknown file format: 'gennaio'"
     ]
    }
   ],
   "source": [
    "from netCDF4 import Dataset\n",
    "import numpy as np\n",
    "import pandas as pd\n",
    "\n",
    "# Try opening the file\n",
    "ds = Dataset(\"gennaio\")\n",
    "\n",
    "# List variables\n",
    "print(ds.variables.keys())"
   ]
  },
  {
   "cell_type": "code",
   "execution_count": 32,
   "id": "76b457de",
   "metadata": {},
   "outputs": [
    {
     "ename": "ValueError",
     "evalue": "unrecognized engine 'cfgrib' must be one of your download engines: ['scipy', 'store']. To install additional dependencies, see:\nhttps://docs.xarray.dev/en/stable/user-guide/io.html \nhttps://docs.xarray.dev/en/stable/getting-started-guide/installing.html",
     "output_type": "error",
     "traceback": [
      "\u001b[1;31m---------------------------------------------------------------------------\u001b[0m",
      "\u001b[1;31mValueError\u001b[0m                                Traceback (most recent call last)",
      "Cell \u001b[1;32mIn[32], line 3\u001b[0m\n\u001b[0;32m      1\u001b[0m \u001b[38;5;28;01mimport\u001b[39;00m \u001b[38;5;21;01mcfgrib\u001b[39;00m\n\u001b[1;32m----> 3\u001b[0m ds \u001b[38;5;241m=\u001b[39m \u001b[43mcfgrib\u001b[49m\u001b[38;5;241;43m.\u001b[39;49m\u001b[43mopen_dataset\u001b[49m\u001b[43m(\u001b[49m\u001b[38;5;124;43m\"\u001b[39;49m\u001b[38;5;124;43mera5land_2022_01.nc\u001b[39;49m\u001b[38;5;124;43m\"\u001b[39;49m\u001b[43m)\u001b[49m\n\u001b[0;32m      4\u001b[0m \u001b[38;5;28mprint\u001b[39m(ds)\n",
      "File \u001b[1;32mc:\\Users\\Antonio\\AppData\\Local\\Programs\\Python\\Python311\\Lib\\site-packages\\cfgrib\\xarray_store.py:39\u001b[0m, in \u001b[0;36mopen_dataset\u001b[1;34m(path, **kwargs)\u001b[0m\n\u001b[0;32m     37\u001b[0m     \u001b[38;5;28;01mraise\u001b[39;00m \u001b[38;5;167;01mValueError\u001b[39;00m(\u001b[38;5;124m\"\u001b[39m\u001b[38;5;124monly engine==\u001b[39m\u001b[38;5;124m'\u001b[39m\u001b[38;5;124mcfgrib\u001b[39m\u001b[38;5;124m'\u001b[39m\u001b[38;5;124m is supported\u001b[39m\u001b[38;5;124m\"\u001b[39m)\n\u001b[0;32m     38\u001b[0m kwargs[\u001b[38;5;124m\"\u001b[39m\u001b[38;5;124mengine\u001b[39m\u001b[38;5;124m\"\u001b[39m] \u001b[38;5;241m=\u001b[39m \u001b[38;5;124m\"\u001b[39m\u001b[38;5;124mcfgrib\u001b[39m\u001b[38;5;124m\"\u001b[39m\n\u001b[1;32m---> 39\u001b[0m \u001b[38;5;28;01mreturn\u001b[39;00m \u001b[43mxr\u001b[49m\u001b[38;5;241;43m.\u001b[39;49m\u001b[43mopen_dataset\u001b[49m\u001b[43m(\u001b[49m\u001b[43mpath\u001b[49m\u001b[43m,\u001b[49m\u001b[43m \u001b[49m\u001b[38;5;241;43m*\u001b[39;49m\u001b[38;5;241;43m*\u001b[39;49m\u001b[43mkwargs\u001b[49m\u001b[43m)\u001b[49m\n",
      "File \u001b[1;32mc:\\Users\\Antonio\\AppData\\Local\\Programs\\Python\\Python311\\Lib\\site-packages\\xarray\\backends\\api.py:673\u001b[0m, in \u001b[0;36mopen_dataset\u001b[1;34m(filename_or_obj, engine, chunks, cache, decode_cf, mask_and_scale, decode_times, decode_timedelta, use_cftime, concat_characters, decode_coords, drop_variables, inline_array, chunked_array_type, from_array_kwargs, backend_kwargs, **kwargs)\u001b[0m\n\u001b[0;32m    670\u001b[0m \u001b[38;5;28;01mif\u001b[39;00m from_array_kwargs \u001b[38;5;129;01mis\u001b[39;00m \u001b[38;5;28;01mNone\u001b[39;00m:\n\u001b[0;32m    671\u001b[0m     from_array_kwargs \u001b[38;5;241m=\u001b[39m {}\n\u001b[1;32m--> 673\u001b[0m backend \u001b[38;5;241m=\u001b[39m \u001b[43mplugins\u001b[49m\u001b[38;5;241;43m.\u001b[39;49m\u001b[43mget_backend\u001b[49m\u001b[43m(\u001b[49m\u001b[43mengine\u001b[49m\u001b[43m)\u001b[49m\n\u001b[0;32m    675\u001b[0m decoders \u001b[38;5;241m=\u001b[39m _resolve_decoders_kwargs(\n\u001b[0;32m    676\u001b[0m     decode_cf,\n\u001b[0;32m    677\u001b[0m     open_backend_dataset_parameters\u001b[38;5;241m=\u001b[39mbackend\u001b[38;5;241m.\u001b[39mopen_dataset_parameters,\n\u001b[1;32m   (...)\u001b[0m\n\u001b[0;32m    683\u001b[0m     decode_coords\u001b[38;5;241m=\u001b[39mdecode_coords,\n\u001b[0;32m    684\u001b[0m )\n\u001b[0;32m    686\u001b[0m overwrite_encoded_chunks \u001b[38;5;241m=\u001b[39m kwargs\u001b[38;5;241m.\u001b[39mpop(\u001b[38;5;124m\"\u001b[39m\u001b[38;5;124moverwrite_encoded_chunks\u001b[39m\u001b[38;5;124m\"\u001b[39m, \u001b[38;5;28;01mNone\u001b[39;00m)\n",
      "File \u001b[1;32mc:\\Users\\Antonio\\AppData\\Local\\Programs\\Python\\Python311\\Lib\\site-packages\\xarray\\backends\\plugins.py:202\u001b[0m, in \u001b[0;36mget_backend\u001b[1;34m(engine)\u001b[0m\n\u001b[0;32m    200\u001b[0m     engines \u001b[38;5;241m=\u001b[39m list_engines()\n\u001b[0;32m    201\u001b[0m     \u001b[38;5;28;01mif\u001b[39;00m engine \u001b[38;5;129;01mnot\u001b[39;00m \u001b[38;5;129;01min\u001b[39;00m engines:\n\u001b[1;32m--> 202\u001b[0m         \u001b[38;5;28;01mraise\u001b[39;00m \u001b[38;5;167;01mValueError\u001b[39;00m(\n\u001b[0;32m    203\u001b[0m             \u001b[38;5;124mf\u001b[39m\u001b[38;5;124m\"\u001b[39m\u001b[38;5;124munrecognized engine \u001b[39m\u001b[38;5;124m'\u001b[39m\u001b[38;5;132;01m{\u001b[39;00mengine\u001b[38;5;132;01m}\u001b[39;00m\u001b[38;5;124m'\u001b[39m\u001b[38;5;124m must be one of your download engines: \u001b[39m\u001b[38;5;132;01m{\u001b[39;00m\u001b[38;5;28mlist\u001b[39m(engines)\u001b[38;5;132;01m}\u001b[39;00m\u001b[38;5;124m. \u001b[39m\u001b[38;5;124m\"\u001b[39m\n\u001b[0;32m    204\u001b[0m             \u001b[38;5;124m\"\u001b[39m\u001b[38;5;124mTo install additional dependencies, see:\u001b[39m\u001b[38;5;130;01m\\n\u001b[39;00m\u001b[38;5;124m\"\u001b[39m\n\u001b[0;32m    205\u001b[0m             \u001b[38;5;124m\"\u001b[39m\u001b[38;5;124mhttps://docs.xarray.dev/en/stable/user-guide/io.html \u001b[39m\u001b[38;5;130;01m\\n\u001b[39;00m\u001b[38;5;124m\"\u001b[39m\n\u001b[0;32m    206\u001b[0m             \u001b[38;5;124m\"\u001b[39m\u001b[38;5;124mhttps://docs.xarray.dev/en/stable/getting-started-guide/installing.html\u001b[39m\u001b[38;5;124m\"\u001b[39m\n\u001b[0;32m    207\u001b[0m         )\n\u001b[0;32m    208\u001b[0m     backend \u001b[38;5;241m=\u001b[39m engines[engine]\n\u001b[0;32m    209\u001b[0m \u001b[38;5;28;01melif\u001b[39;00m \u001b[38;5;28missubclass\u001b[39m(engine, BackendEntrypoint):\n",
      "\u001b[1;31mValueError\u001b[0m: unrecognized engine 'cfgrib' must be one of your download engines: ['scipy', 'store']. To install additional dependencies, see:\nhttps://docs.xarray.dev/en/stable/user-guide/io.html \nhttps://docs.xarray.dev/en/stable/getting-started-guide/installing.html"
     ]
    }
   ],
   "source": [
    "import cfgrib\n",
    "\n",
    "ds = cfgrib.open_dataset(\"era5land_2022_01.nc\")\n",
    "print(ds)"
   ]
  },
  {
   "cell_type": "code",
   "execution_count": 23,
   "id": "de40c6bf",
   "metadata": {},
   "outputs": [
    {
     "name": "stdout",
     "output_type": "stream",
     "text": [
      "{'scipy': <ScipyBackendEntrypoint>\n",
      "  Open netCDF files (.nc, .nc4, .cdf and .gz) using scipy in Xarray\n",
      "  Learn more at https://docs.xarray.dev/en/stable/generated/xarray.backends.ScipyBackendEntrypoint.html, 'store': <StoreBackendEntrypoint>\n",
      "  Open AbstractDataStore instances in Xarray\n",
      "  Learn more at https://docs.xarray.dev/en/stable/generated/xarray.backends.StoreBackendEntrypoint.html}\n"
     ]
    }
   ],
   "source": [
    "import xarray.backends\n",
    "\n",
    "print(xarray.backends.list_engines())"
   ]
  },
  {
   "cell_type": "code",
   "execution_count": null,
   "id": "0f8cdb01",
   "metadata": {},
   "outputs": [
    {
     "name": "stdout",
     "output_type": "stream",
     "text": [
      "<class 'netCDF4.Variable'>\n",
      "float32 t2m(valid_time, latitude, longitude)\n",
      "    _FillValue: nan\n",
      "    GRIB_paramId: 167\n",
      "    GRIB_dataType: fc\n",
      "    GRIB_numberOfPoints: 1\n",
      "    GRIB_typeOfLevel: surface\n",
      "    GRIB_stepUnits: 1\n",
      "    GRIB_stepType: instant\n",
      "    GRIB_gridType: regular_ll\n",
      "    GRIB_uvRelativeToGrid: 0\n",
      "    GRIB_NV: 0\n",
      "    GRIB_Nx: 1\n",
      "    GRIB_Ny: 1\n",
      "    GRIB_cfName: unknown\n",
      "    GRIB_cfVarName: t2m\n",
      "    GRIB_gridDefinitionDescription: Latitude/Longitude Grid\n",
      "    GRIB_iDirectionIncrementInDegrees: 0.1\n",
      "    GRIB_iScansNegatively: 0\n",
      "    GRIB_jDirectionIncrementInDegrees: 0.1\n",
      "    GRIB_jPointsAreConsecutive: 0\n",
      "    GRIB_jScansPositively: 0\n",
      "    GRIB_latitudeOfFirstGridPointInDegrees: 44.34\n",
      "    GRIB_latitudeOfLastGridPointInDegrees: 44.34\n",
      "    GRIB_longitudeOfFirstGridPointInDegrees: 12.25\n",
      "    GRIB_longitudeOfLastGridPointInDegrees: 12.25\n",
      "    GRIB_missingValue: 3.4028234663852886e+38\n",
      "    GRIB_name: 2 metre temperature\n",
      "    GRIB_shortName: 2t\n",
      "    GRIB_totalNumber: 0\n",
      "    GRIB_units: K\n",
      "    long_name: 2 metre temperature\n",
      "    units: K\n",
      "    standard_name: unknown\n",
      "    GRIB_surface: 0.0\n",
      "    coordinates: number valid_time latitude longitude expver\n",
      "unlimited dimensions: \n",
      "current shape = (744, 1, 1)\n",
      "filling on\n"
     ]
    }
   ],
   "source": [
    "#print(ds)\n",
    "temperature = ds.variables['t2m']\n",
    "precipitations = ds.variables['tp']*1000\n",
    "#pressure = ds.\n",
    "print(temperature)\n",
    "\n"
   ]
  },
  {
   "cell_type": "code",
   "execution_count": 12,
   "id": "0ee45f7e",
   "metadata": {},
   "outputs": [],
   "source": [
    "temperature = ds.variables['t2m'][:]       # shape: (time, lat, lon)\n",
    "time = ds.variables['valid_time']\n",
    "lat = ds.variables['latitude'][:]\n",
    "lon = ds.variables['longitude'][:]\n",
    "\n",
    "# Convert time units to datetime objects\n",
    "time_units = time.units\n",
    "time_calendar = time.calendar if hasattr(time, 'calendar') else 'standard'\n",
    "dates = num2date(time[:], units=time_units, calendar=time_calendar)\n",
    "\n",
    "# Reshape data: (time, lat, lon) -> flat table\n",
    "times, lats, lons = np.meshgrid(dates, lat, lon, indexing='ij')\n",
    "data_flat = {\n",
    "    'time': times.ravel(),\n",
    "    'latitude': lats.ravel(),\n",
    "    'longitude': lons.ravel(),\n",
    "    't2m': temperature.ravel()\n",
    "}\n",
    "\n",
    "# Create DataFrame\n",
    "df = pd.DataFrame(data_flat)\n",
    "\n",
    "# Optional: Convert temperature from Kelvin to Celsius\n",
    "df['t2m'] = df['t2m'] - 273.15"
   ]
  },
  {
   "cell_type": "code",
   "execution_count": 5,
   "id": "c7aaa58e",
   "metadata": {},
   "outputs": [
    {
     "name": "stderr",
     "output_type": "stream",
     "text": [
      "2025-06-05 14:35:30,363 INFO [2024-09-26T00:00:00] Watch our [Forum](https://forum.ecmwf.int/) for Announcements, news and other discussed topics.\n",
      "2025-06-05 14:35:30,567 INFO Request ID is 5b6f73de-c2eb-4dff-b651-a997b20d1d52\n"
     ]
    },
    {
     "name": "stdout",
     "output_type": "stream",
     "text": [
      "Downloading era5_2022\\lavezzola_2022_01.nc...\n"
     ]
    },
    {
     "name": "stderr",
     "output_type": "stream",
     "text": [
      "2025-06-05 14:35:30,911 INFO status has been updated to accepted\n",
      "2025-06-05 14:47:51,995 INFO status has been updated to running\n",
      "2025-06-05 14:55:52,769 INFO status has been updated to successful\n",
      "2025-06-05 14:55:54,463 INFO Request ID is 8d5ffd25-8372-4b7c-8a51-4e89e67d4abd           \n"
     ]
    },
    {
     "name": "stdout",
     "output_type": "stream",
     "text": [
      "Downloading era5_2022\\lavezzola_2022_02.nc...\n"
     ]
    },
    {
     "name": "stderr",
     "output_type": "stream",
     "text": [
      "2025-06-05 14:55:54,531 INFO status has been updated to accepted\n",
      "2025-06-05 14:58:46,768 INFO status has been updated to running\n",
      "2025-06-05 15:08:14,623 INFO status has been updated to successful\n",
      "                                                                                          \r"
     ]
    },
    {
     "name": "stdout",
     "output_type": "stream",
     "text": [
      "Downloading era5_2022\\lavezzola_2022_03.nc...\n"
     ]
    },
    {
     "name": "stderr",
     "output_type": "stream",
     "text": [
      "2025-06-05 15:08:16,331 INFO Request ID is 101c8e3d-1687-483d-b754-fdcc3adb75ce\n",
      "2025-06-05 15:08:16,502 INFO status has been updated to accepted\n",
      "2025-06-05 15:09:06,567 INFO status has been updated to running\n",
      "2025-06-05 15:18:36,067 INFO status has been updated to successful\n",
      "                                                                                          \r"
     ]
    },
    {
     "name": "stdout",
     "output_type": "stream",
     "text": [
      "Downloading era5_2022\\lavezzola_2022_04.nc...\n"
     ]
    },
    {
     "name": "stderr",
     "output_type": "stream",
     "text": [
      "2025-06-05 15:18:37,653 INFO Request ID is bf67e3ed-4778-4c04-bec5-8f1b6fa3bf70\n",
      "2025-06-05 15:18:37,724 INFO status has been updated to accepted\n",
      "2025-06-05 15:51:04,510 INFO status has been updated to running\n",
      "2025-06-05 15:57:05,123 INFO status has been updated to successful\n",
      "                                                                                          \r"
     ]
    },
    {
     "name": "stdout",
     "output_type": "stream",
     "text": [
      "Downloading era5_2022\\lavezzola_2022_05.nc...\n"
     ]
    },
    {
     "name": "stderr",
     "output_type": "stream",
     "text": [
      "2025-06-05 15:57:06,624 INFO Request ID is ab57678c-480c-4d7b-b0c1-ccef1aa9bc4c\n",
      "2025-06-05 15:57:06,706 INFO status has been updated to accepted\n",
      "2025-06-05 16:35:29,308 INFO status has been updated to running\n",
      "2025-06-05 16:43:30,238 INFO status has been updated to successful\n",
      "                                                                                          \r"
     ]
    },
    {
     "name": "stdout",
     "output_type": "stream",
     "text": [
      "Downloading era5_2022\\lavezzola_2022_06.nc...\n"
     ]
    },
    {
     "name": "stderr",
     "output_type": "stream",
     "text": [
      "2025-06-05 16:43:31,879 INFO Request ID is 82d3793d-dd60-4051-afa3-37d3b781ac7c\n",
      "2025-06-05 16:43:32,031 INFO status has been updated to accepted\n",
      "2025-06-05 17:24:00,422 INFO status has been updated to running\n",
      "2025-06-05 17:36:06,563 INFO status has been updated to successful\n",
      "                                                                                          \r"
     ]
    },
    {
     "name": "stdout",
     "output_type": "stream",
     "text": [
      "Downloading era5_2022\\lavezzola_2022_07.nc...\n"
     ]
    },
    {
     "name": "stderr",
     "output_type": "stream",
     "text": [
      "2025-06-05 17:36:08,316 INFO Request ID is c7ee78ee-2975-4cf7-a78e-a784f80bf3b7\n",
      "2025-06-05 17:36:08,392 INFO status has been updated to accepted\n",
      "2025-06-05 17:36:16,899 INFO status has been updated to running\n",
      "2025-06-05 17:48:28,306 INFO status has been updated to successful\n",
      "                                                                                          \r"
     ]
    },
    {
     "name": "stdout",
     "output_type": "stream",
     "text": [
      "Downloading era5_2022\\lavezzola_2022_08.nc...\n"
     ]
    },
    {
     "name": "stderr",
     "output_type": "stream",
     "text": [
      "2025-06-05 17:48:30,135 INFO Request ID is e22ca414-e212-4ea3-91cb-56544cb50693\n",
      "2025-06-05 17:48:30,346 INFO status has been updated to accepted\n",
      "2025-06-05 18:13:01,487 INFO status has been updated to running\n",
      "2025-06-05 18:19:02,183 INFO status has been updated to successful\n",
      "                                                                                          \r"
     ]
    },
    {
     "name": "stdout",
     "output_type": "stream",
     "text": [
      "Downloading era5_2022\\lavezzola_2022_09.nc...\n"
     ]
    },
    {
     "name": "stderr",
     "output_type": "stream",
     "text": [
      "2025-06-05 18:19:03,607 INFO Request ID is c2d5588c-15e8-4105-8340-326fb664fe4e\n",
      "2025-06-05 18:19:03,682 INFO status has been updated to accepted\n",
      "2025-06-05 18:27:23,233 INFO status has been updated to running\n",
      "2025-06-05 18:35:26,697 INFO status has been updated to successful\n",
      "                                                                                          \r"
     ]
    },
    {
     "name": "stdout",
     "output_type": "stream",
     "text": [
      "Downloading era5_2022\\lavezzola_2022_10.nc...\n"
     ]
    },
    {
     "name": "stderr",
     "output_type": "stream",
     "text": [
      "2025-06-05 18:35:28,514 INFO Request ID is 1f39e710-42b8-4094-b2d6-9ecfedc0ff7b\n",
      "2025-06-05 18:35:28,601 INFO status has been updated to accepted\n",
      "2025-06-05 18:43:48,574 INFO status has been updated to running\n",
      "2025-06-05 18:53:49,489 INFO status has been updated to successful\n",
      "                                                                                          \r"
     ]
    },
    {
     "name": "stdout",
     "output_type": "stream",
     "text": [
      "Downloading era5_2022\\lavezzola_2022_11.nc...\n"
     ]
    },
    {
     "name": "stderr",
     "output_type": "stream",
     "text": [
      "2025-06-05 18:53:51,135 INFO Request ID is f7bbe739-d8a4-465d-b0ec-6fbb3136d43b\n",
      "2025-06-05 18:53:51,209 INFO status has been updated to accepted\n",
      "2025-06-05 18:54:41,058 INFO status has been updated to running\n",
      "2025-06-05 18:56:43,152 INFO status has been updated to accepted\n",
      "2025-06-05 18:58:09,841 INFO status has been updated to running\n",
      "2025-06-05 19:06:10,651 INFO status has been updated to successful\n",
      "                                                                                          \r"
     ]
    },
    {
     "name": "stdout",
     "output_type": "stream",
     "text": [
      "Downloading era5_2022\\lavezzola_2022_12.nc...\n"
     ]
    },
    {
     "name": "stderr",
     "output_type": "stream",
     "text": [
      "2025-06-05 19:06:12,668 INFO Request ID is 4d4afec3-8cdf-44ed-8e89-295c8c0b0741\n",
      "2025-06-05 19:06:12,867 INFO status has been updated to accepted\n",
      "2025-06-05 19:22:38,134 INFO status has been updated to running\n",
      "2025-06-05 19:32:39,231 INFO status has been updated to successful\n",
      "                                                                                          "
     ]
    },
    {
     "name": "stdout",
     "output_type": "stream",
     "text": [
      "✅ Download completed for all months.\n"
     ]
    },
    {
     "name": "stderr",
     "output_type": "stream",
     "text": [
      "\r"
     ]
    }
   ],
   "source": [
    "import cdsapi\n",
    "import os\n",
    "\n",
    "# Initialize client\n",
    "client = cdsapi.Client()\n",
    "\n",
    "# Year you want to download\n",
    "year = 2022\n",
    "\n",
    "# Define variables and fixed request parts\n",
    "dataset = \"reanalysis-era5-land\"\n",
    "variables = [\n",
    "    \"2m_dewpoint_temperature\",\n",
    "    \"2m_temperature\",\n",
    "    \"surface_pressure\",\n",
    "    \"total_precipitation\"\n",
    "]\n",
    "times = [f\"{hour:02d}:00\" for hour in range(24)]  # All 24 hours\n",
    "\n",
    "# Latitude/Longitude bounds [N, W, S, E] #inserire il valore reale nei primi 2 valori\n",
    "area = [44.563, 11.844, 44.562, 11.843]\n",
    "\n",
    "# Create output directory if it doesn't exist\n",
    "output_dir = f\"era5_{year}\"\n",
    "os.makedirs(output_dir, exist_ok=True)\n",
    "\n",
    "# Loop over each month\n",
    "for month in range(1, 13):\n",
    "    month_str = f\"{month:02d}\"\n",
    "    \n",
    "    # Determine days in the month\n",
    "    if month_str in ['01', '03', '05', '07', '08', '10', '12']:\n",
    "        days = [f\"{day:02d}\" for day in range(1, 32)]\n",
    "    elif month_str in ['04', '06', '09', '11']:\n",
    "        days = [f\"{day:02d}\" for day in range(1, 31)]\n",
    "    else:  # February (leap year check)\n",
    "        days = [f\"{day:02d}\" for day in range(1, 30 if year % 4 == 0 and (year % 100 != 0 or year % 400 == 0) else 29)]\n",
    "\n",
    "    # Prepare request\n",
    "    request = {\n",
    "        \"variable\": variables,\n",
    "        \"year\": str(year),\n",
    "        \"month\": month_str,\n",
    "        \"day\": days,\n",
    "        \"time\": times,\n",
    "        \"format\": \"netcdf\",\n",
    "        \"area\": area\n",
    "    }\n",
    "\n",
    "    # Output file name\n",
    "    filename = os.path.join(output_dir, f\"lavezzola_{year}_{month_str}.nc\")\n",
    "\n",
    "    # Download\n",
    "    print(f\"Downloading {filename}...\")\n",
    "    client.retrieve(dataset, request).download(filename)\n",
    "\n",
    "print(\"✅ Download completed for all months.\")"
   ]
  },
  {
   "cell_type": "code",
   "execution_count": null,
   "id": "56d8848f",
   "metadata": {},
   "outputs": [],
   "source": [
    "import numpy as np\n",
    "\n",
    "def compute_relative_humidity(temp_c, dewpoint_c):\n",
    "    \"\"\"\n",
    "    Calculate relative humidity (%) from temperature and dew point (in Celsius).\n",
    "    Uses the Magnus formula.\n",
    "    \"\"\"\n",
    "    a, b = 17.625, 243.04\n",
    "    rh = 100 * (np.exp((a * dewpoint_c) / (b + dewpoint_c)) /\n",
    "                np.exp((a * temp_c) / (b + temp_c)))\n",
    "    return np.clip(rh, 0, 100)  # Ensure RH is within 0-100%"
   ]
  },
  {
   "cell_type": "code",
   "execution_count": null,
   "id": "c42e2563",
   "metadata": {},
   "outputs": [],
   "source": [
    "temp_c = temperature - 273.15\n",
    "dewpoint_c = dewpoint_k - 273.15\n",
    "rh = compute_relative_humidity(temp_c, dewpoint_c)"
   ]
  }
 ],
 "metadata": {
  "kernelspec": {
   "display_name": "Python 3",
   "language": "python",
   "name": "python3"
  },
  "language_info": {
   "codemirror_mode": {
    "name": "ipython",
    "version": 3
   },
   "file_extension": ".py",
   "mimetype": "text/x-python",
   "name": "python",
   "nbconvert_exporter": "python",
   "pygments_lexer": "ipython3",
   "version": "3.11.5"
  }
 },
 "nbformat": 4,
 "nbformat_minor": 5
}
