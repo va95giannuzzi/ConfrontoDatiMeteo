{
 "cells": [
  {
   "cell_type": "code",
   "execution_count": 5,
   "id": "0afde22f",
   "metadata": {},
   "outputs": [
    {
     "name": "stderr",
     "output_type": "stream",
     "text": [
      "2025-06-13 14:46:14,569 INFO [2025-06-10T00:00:00] To improve our C3S service, we need to hear from you! Please complete this very short [survey](https://confluence.ecmwf.int/x/E7uBEQ/). Thank you.\n",
      "2025-06-13 14:46:14,570 INFO [2024-09-26T00:00:00] Watch our [Forum](https://forum.ecmwf.int/) for Announcements, news and other discussed topics.\n"
     ]
    },
    {
     "name": "stdout",
     "output_type": "stream",
     "text": [
      "Downloading era5_2022\\umana_2022_01.nc...\n"
     ]
    },
    {
     "name": "stderr",
     "output_type": "stream",
     "text": [
      "2025-06-13 14:46:14,780 INFO Request ID is 1524e373-c8ba-4450-9fe0-35bd9f35498b\n",
      "2025-06-13 14:46:14,865 INFO status has been updated to accepted\n",
      "2025-06-13 14:46:36,321 INFO status has been updated to running\n",
      "2025-06-13 14:54:34,306 INFO status has been updated to successful\n",
      "                                                                                       \r"
     ]
    },
    {
     "name": "stdout",
     "output_type": "stream",
     "text": [
      "Downloading era5_2022\\umana_2022_02.nc...\n"
     ]
    },
    {
     "name": "stderr",
     "output_type": "stream",
     "text": [
      "2025-06-13 14:54:40,153 INFO Request ID is 9ceb49f7-8fe4-4f15-be2c-26da72cfe344\n",
      "2025-06-13 14:54:40,255 INFO status has been updated to accepted\n",
      "2025-06-13 14:54:48,900 INFO status has been updated to running\n",
      "2025-06-13 15:03:00,073 INFO status has been updated to successful\n",
      "2025-06-13 15:03:06,123 INFO Request ID is bc210f7a-108a-420f-ad9b-360745cde2a5        \n"
     ]
    },
    {
     "name": "stdout",
     "output_type": "stream",
     "text": [
      "Downloading era5_2022\\umana_2022_03.nc...\n"
     ]
    },
    {
     "name": "stderr",
     "output_type": "stream",
     "text": [
      "2025-06-13 15:03:06,206 INFO status has been updated to accepted\n",
      "2025-06-13 15:03:19,889 INFO status has been updated to running\n",
      "2025-06-13 15:03:56,220 INFO status has been updated to accepted\n",
      "2025-06-13 15:04:21,933 INFO status has been updated to running\n",
      "2025-06-13 15:11:25,445 INFO status has been updated to successful\n",
      "                                                                                       \r"
     ]
    },
    {
     "name": "stdout",
     "output_type": "stream",
     "text": [
      "Downloading era5_2022\\umana_2022_04.nc...\n"
     ]
    },
    {
     "name": "stderr",
     "output_type": "stream",
     "text": [
      "2025-06-13 15:11:31,608 INFO Request ID is 0ec26c75-62e0-41b1-8435-68b7e3748c35\n",
      "2025-06-13 15:11:31,697 INFO status has been updated to accepted\n",
      "2025-06-13 15:11:40,112 INFO status has been updated to running\n",
      "2025-06-13 15:19:50,888 INFO status has been updated to successful\n",
      "                                                                                       \r"
     ]
    },
    {
     "name": "stdout",
     "output_type": "stream",
     "text": [
      "Downloading era5_2022\\umana_2022_05.nc...\n"
     ]
    },
    {
     "name": "stderr",
     "output_type": "stream",
     "text": [
      "2025-06-13 15:19:56,994 INFO Request ID is 2c84b99b-5346-4e8e-bfdc-584cc93e0793\n",
      "2025-06-13 15:19:57,083 INFO status has been updated to accepted\n",
      "2025-06-13 15:20:18,487 INFO status has been updated to running\n",
      "2025-06-13 15:30:16,595 INFO status has been updated to successful\n",
      "                                                                                       \r"
     ]
    },
    {
     "name": "stdout",
     "output_type": "stream",
     "text": [
      "Downloading era5_2022\\umana_2022_06.nc...\n"
     ]
    },
    {
     "name": "stderr",
     "output_type": "stream",
     "text": [
      "2025-06-13 15:30:22,627 INFO Request ID is 70c1d80f-b657-401b-b89e-36f91ee83992\n",
      "2025-06-13 15:30:22,702 INFO status has been updated to accepted\n",
      "2025-06-13 15:30:36,467 INFO status has been updated to running\n",
      "2025-06-13 15:40:42,477 INFO status has been updated to successful\n",
      "                                                                                       \r"
     ]
    },
    {
     "name": "stdout",
     "output_type": "stream",
     "text": [
      "Downloading era5_2022\\umana_2022_07.nc...\n"
     ]
    },
    {
     "name": "stderr",
     "output_type": "stream",
     "text": [
      "2025-06-13 15:40:49,044 INFO Request ID is 26302afe-9f1c-4309-8d99-c76d0e786f49\n",
      "2025-06-13 15:40:49,213 INFO status has been updated to accepted\n",
      "2025-06-13 15:41:03,155 INFO status has been updated to running\n",
      "2025-06-13 15:51:09,144 INFO status has been updated to successful\n",
      "                                                                                       \r"
     ]
    },
    {
     "name": "stdout",
     "output_type": "stream",
     "text": [
      "Downloading era5_2022\\umana_2022_08.nc...\n"
     ]
    },
    {
     "name": "stderr",
     "output_type": "stream",
     "text": [
      "2025-06-13 15:51:15,291 INFO Request ID is 4ea87bdd-1b98-49ab-bf67-e9d5f274455a\n",
      "2025-06-13 15:51:15,381 INFO status has been updated to accepted\n",
      "2025-06-13 15:51:23,863 INFO status has been updated to running\n",
      "2025-06-13 16:01:35,224 INFO status has been updated to successful\n",
      "                                                                                       \r"
     ]
    },
    {
     "name": "stdout",
     "output_type": "stream",
     "text": [
      "Downloading era5_2022\\umana_2022_09.nc...\n"
     ]
    },
    {
     "name": "stderr",
     "output_type": "stream",
     "text": [
      "2025-06-13 16:01:41,330 INFO Request ID is 4b70ddf7-4dca-4067-b62d-1fcdfc33f4a3\n",
      "2025-06-13 16:01:41,403 INFO status has been updated to accepted\n",
      "2025-06-13 16:01:54,982 INFO status has been updated to running\n",
      "2025-06-13 16:02:02,639 INFO status has been updated to accepted\n",
      "2025-06-13 16:02:14,092 INFO status has been updated to running\n",
      "2025-06-13 16:10:00,824 INFO status has been updated to successful\n",
      "                                                                                       \r"
     ]
    },
    {
     "name": "stdout",
     "output_type": "stream",
     "text": [
      "Downloading era5_2022\\umana_2022_10.nc...\n"
     ]
    },
    {
     "name": "stderr",
     "output_type": "stream",
     "text": [
      "2025-06-13 16:10:06,774 INFO Request ID is 08be0542-61ef-4501-9461-f5103c62f88f\n",
      "2025-06-13 16:10:06,848 INFO status has been updated to accepted\n",
      "2025-06-13 16:10:40,278 INFO status has been updated to running\n",
      "2025-06-13 16:18:26,732 INFO status has been updated to successful\n",
      "                                                                                       \r"
     ]
    },
    {
     "name": "stdout",
     "output_type": "stream",
     "text": [
      "Downloading era5_2022\\umana_2022_11.nc...\n"
     ]
    },
    {
     "name": "stderr",
     "output_type": "stream",
     "text": [
      "2025-06-13 16:18:32,967 INFO Request ID is 3e82c4b9-ab1a-40ce-8898-df90f8f4ffd1\n",
      "2025-06-13 16:18:33,059 INFO status has been updated to accepted\n",
      "2025-06-13 16:18:41,489 INFO status has been updated to running\n",
      "2025-06-13 16:26:52,448 INFO status has been updated to successful\n",
      "                                                                                       \r"
     ]
    },
    {
     "name": "stdout",
     "output_type": "stream",
     "text": [
      "Downloading era5_2022\\umana_2022_12.nc...\n"
     ]
    },
    {
     "name": "stderr",
     "output_type": "stream",
     "text": [
      "2025-06-13 16:26:58,403 INFO Request ID is 93026fba-66de-4687-abab-801026fd1b9c\n",
      "2025-06-13 16:26:58,500 INFO status has been updated to accepted\n",
      "2025-06-13 16:27:19,758 INFO status has been updated to running\n",
      "2025-06-13 16:37:22,927 INFO status has been updated to successful\n",
      "                                                                                       \r"
     ]
    },
    {
     "name": "stdout",
     "output_type": "stream",
     "text": [
      "✅ Download completed for all months.\n"
     ]
    }
   ],
   "source": [
    "import cdsapi\n",
    "import os\n",
    "import time\n",
    "\n",
    "# Initialize CDS API client\n",
    "client = cdsapi.Client()\n",
    "\n",
    "year = 2022\n",
    "dataset = \"reanalysis-era5-land\"\n",
    "variables = [\n",
    "    \"2m_dewpoint_temperature\",\n",
    "    \"2m_temperature\",\n",
    "    \"surface_pressure\",\n",
    "    \"total_precipitation\"\n",
    "]\n",
    "times = [f\"{hour:02d}:00\" for hour in range(24)]  # All 24 hours\n",
    "\n",
    "# Corrected area: [North, West, South, East]\n",
    "area = [44.574, 12.10134, 44.57337, 12.11]#est sempre più alto di west, così come per nord vs sud \n",
    "#inserire coordinate da Dario in questo modo: da excel mettere latitudine al posto del sud e fare in modo che la nord sia più elevata. per la longitudine\n",
    "# mettere il valore di dario al posto della long west e per la est fare in modo che sia più grande della west\n",
    "\n",
    "# Create output directory\n",
    "output_dir = f\"era5_{year}\"\n",
    "os.makedirs(output_dir, exist_ok=True)\n",
    "\n",
    "# Days in each month (handling leap year)\n",
    "def get_days(month, year):\n",
    "    if month in [1, 3, 5, 7, 8, 10, 12]:\n",
    "        return [f\"{day:02d}\" for day in range(1, 32)]\n",
    "    elif month in [4, 6, 9, 11]:\n",
    "        return [f\"{day:02d}\" for day in range(1, 31)]\n",
    "    else:  # February, leap year check\n",
    "        if (year % 400 == 0) or (year % 4 == 0 and year % 100 != 0):\n",
    "            return [f\"{day:02d}\" for day in range(1, 30)]\n",
    "        else:\n",
    "            return [f\"{day:02d}\" for day in range(1, 29)]\n",
    "\n",
    "for month in range(1, 13):\n",
    "    month_str = f\"{month:02d}\"\n",
    "    days = get_days(month, year)\n",
    "\n",
    "    request = {\n",
    "        \"variable\": variables,\n",
    "        \"year\": str(year),\n",
    "        \"month\": month_str,\n",
    "        \"day\": days,\n",
    "        \"time\": times,\n",
    "        \"format\": \"netcdf\",\n",
    "        \"area\": area,\n",
    "    }\n",
    "\n",
    "    filename = os.path.join(output_dir, f\"umana_{year}_{month_str}.nc\")\n",
    "    print(f\"Downloading {filename}...\")\n",
    "\n",
    "    try:\n",
    "        client.retrieve(dataset, request).download(filename)\n",
    "        filesize = os.path.getsize(filename)\n",
    "        if filesize < 100_000:\n",
    "            print(f\"⚠️ Warning: {filename} is only {filesize} bytes — might be invalid or incomplete.\")\n",
    "    except Exception as e:\n",
    "        print(f\"❌ Failed to download {filename}: {e}\")\n",
    "\n",
    "    time.sleep(5)  # Pause 5 seconds between downloads to be polite\n",
    "\n",
    "print(\"✅ Download completed for all months.\")"
   ]
  }
 ],
 "metadata": {
  "kernelspec": {
   "display_name": "Python 3",
   "language": "python",
   "name": "python3"
  },
  "language_info": {
   "codemirror_mode": {
    "name": "ipython",
    "version": 3
   },
   "file_extension": ".py",
   "mimetype": "text/x-python",
   "name": "python",
   "nbconvert_exporter": "python",
   "pygments_lexer": "ipython3",
   "version": "3.11.5"
  }
 },
 "nbformat": 4,
 "nbformat_minor": 5
}
