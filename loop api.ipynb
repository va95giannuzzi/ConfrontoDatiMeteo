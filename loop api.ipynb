{
 "cells": [
  {
   "cell_type": "code",
   "execution_count": null,
   "id": "0afde22f",
   "metadata": {},
   "outputs": [
    {
     "name": "stderr",
     "output_type": "stream",
     "text": [
      "2025-06-11 15:37:42,223 INFO [2025-06-10T00:00:00] To improve our C3S service, we need to hear from you! Please complete this very short [survey](https://confluence.ecmwf.int/x/E7uBEQ/). Thank you.\n",
      "2025-06-11 15:37:42,224 INFO [2024-09-26T00:00:00] Watch our [Forum](https://forum.ecmwf.int/) for Announcements, news and other discussed topics.\n"
     ]
    },
    {
     "name": "stdout",
     "output_type": "stream",
     "text": [
      "Downloading era5_2022\\goito_2022_01.nc...\n"
     ]
    },
    {
     "name": "stderr",
     "output_type": "stream",
     "text": [
      "2025-06-11 15:37:43,013 INFO Request ID is 15110ba4-8aed-4557-ab7c-6c9ad2e21088\n",
      "2025-06-11 15:37:43,102 INFO status has been updated to accepted\n",
      "2025-06-11 15:38:34,775 INFO status has been updated to running\n",
      "2025-06-11 15:44:04,432 INFO status has been updated to successful\n",
      "                                                                                       \r"
     ]
    },
    {
     "name": "stdout",
     "output_type": "stream",
     "text": [
      "Downloading era5_2022\\goito_2022_02.nc...\n"
     ]
    },
    {
     "name": "stderr",
     "output_type": "stream",
     "text": [
      "2025-06-11 15:44:10,412 INFO Request ID is 1cd6200c-2fe9-4414-b901-899b23f33363\n",
      "2025-06-11 15:44:10,510 INFO status has been updated to accepted\n",
      "2025-06-11 15:44:24,589 INFO status has been updated to running\n",
      "2025-06-11 15:54:32,244 INFO status has been updated to successful\n",
      "                                                                                       \r"
     ]
    },
    {
     "name": "stdout",
     "output_type": "stream",
     "text": [
      "Downloading era5_2022\\goito_2022_03.nc...\n"
     ]
    },
    {
     "name": "stderr",
     "output_type": "stream",
     "text": [
      "2025-06-11 15:54:38,690 INFO Request ID is bae42852-6cb9-46a0-84cf-882d776d99e5\n",
      "2025-06-11 15:54:38,771 INFO status has been updated to accepted\n",
      "2025-06-11 15:54:53,100 INFO status has been updated to running\n",
      "2025-06-11 16:02:58,945 INFO status has been updated to successful\n",
      "                                                                                       \r"
     ]
    },
    {
     "name": "stdout",
     "output_type": "stream",
     "text": [
      "Downloading era5_2022\\goito_2022_04.nc...\n"
     ]
    },
    {
     "name": "stderr",
     "output_type": "stream",
     "text": [
      "2025-06-11 16:03:05,391 INFO Request ID is c35c8791-bd52-45b0-8b9a-4a53ba823242\n",
      "2025-06-11 16:03:05,683 INFO status has been updated to accepted\n",
      "2025-06-11 16:03:14,711 INFO status has been updated to running\n",
      "2025-06-11 16:11:25,988 INFO status has been updated to successful\n",
      "                                                                                       \r"
     ]
    },
    {
     "name": "stdout",
     "output_type": "stream",
     "text": [
      "Downloading era5_2022\\goito_2022_05.nc...\n"
     ]
    },
    {
     "name": "stderr",
     "output_type": "stream",
     "text": [
      "2025-06-11 16:11:32,052 INFO Request ID is 446ddf2d-df1f-4bed-a29e-9e1b3004c35d\n",
      "2025-06-11 16:11:32,131 INFO status has been updated to accepted\n",
      "2025-06-11 16:11:40,736 INFO status has been updated to running\n",
      "2025-06-11 16:19:51,531 INFO status has been updated to successful\n",
      "                                                                                       \r"
     ]
    },
    {
     "name": "stdout",
     "output_type": "stream",
     "text": [
      "Downloading era5_2022\\goito_2022_06.nc...\n"
     ]
    },
    {
     "name": "stderr",
     "output_type": "stream",
     "text": [
      "2025-06-11 16:19:58,373 INFO Request ID is 1a0e241a-f3ed-4593-a914-a5c592bf2488\n",
      "2025-06-11 16:19:58,494 INFO status has been updated to accepted\n",
      "2025-06-11 16:20:06,975 INFO status has been updated to running\n",
      "2025-06-11 16:28:17,807 INFO status has been updated to successful\n",
      "                                                                                       \r"
     ]
    },
    {
     "name": "stdout",
     "output_type": "stream",
     "text": [
      "Downloading era5_2022\\goito_2022_07.nc...\n"
     ]
    },
    {
     "name": "stderr",
     "output_type": "stream",
     "text": [
      "2025-06-11 16:28:24,380 INFO Request ID is 6a9fa09c-af59-4eb5-b539-767655f061a3\n",
      "2025-06-11 16:28:24,462 INFO status has been updated to accepted\n",
      "2025-06-11 16:29:15,008 INFO status has been updated to running\n",
      "2025-06-11 16:38:45,107 INFO status has been updated to successful\n",
      "                                                                                       \r"
     ]
    },
    {
     "name": "stdout",
     "output_type": "stream",
     "text": [
      "Downloading era5_2022\\goito_2022_08.nc...\n"
     ]
    },
    {
     "name": "stderr",
     "output_type": "stream",
     "text": [
      "2025-06-11 16:38:51,821 INFO Request ID is f4d3413a-2f72-4a61-abca-686a5ae60479\n",
      "2025-06-11 16:38:51,947 INFO status has been updated to accepted\n",
      "2025-06-11 16:39:00,527 INFO status has been updated to running\n",
      "2025-06-11 16:47:11,324 INFO status has been updated to successful\n",
      "                                                                                       \r"
     ]
    },
    {
     "name": "stdout",
     "output_type": "stream",
     "text": [
      "Downloading era5_2022\\goito_2022_09.nc...\n"
     ]
    },
    {
     "name": "stderr",
     "output_type": "stream",
     "text": [
      "2025-06-11 16:47:17,485 INFO Request ID is dec944e5-a929-4e83-8bba-4dfb651a932e\n",
      "2025-06-11 16:47:17,603 INFO status has been updated to accepted\n",
      "2025-06-11 16:47:26,156 INFO status has been updated to running\n",
      "2025-06-11 16:53:36,825 INFO status has been updated to successful\n",
      "                                                                                       \r"
     ]
    },
    {
     "name": "stdout",
     "output_type": "stream",
     "text": [
      "Downloading era5_2022\\goito_2022_10.nc...\n"
     ]
    },
    {
     "name": "stderr",
     "output_type": "stream",
     "text": [
      "2025-06-11 16:53:43,027 INFO Request ID is d9c12aa0-fe6f-47c0-80ef-27bfa443f852\n",
      "2025-06-11 16:53:43,106 INFO status has been updated to accepted\n",
      "2025-06-11 16:53:51,551 INFO status has been updated to running\n",
      "2025-06-11 17:02:02,910 INFO status has been updated to successful\n",
      "                                                                                       \r"
     ]
    },
    {
     "name": "stdout",
     "output_type": "stream",
     "text": [
      "Downloading era5_2022\\goito_2022_11.nc...\n"
     ]
    },
    {
     "name": "stderr",
     "output_type": "stream",
     "text": [
      "2025-06-11 17:02:09,082 INFO Request ID is 6ecef14a-66bd-4f66-9d2e-e85fdc15cdf3\n",
      "2025-06-11 17:02:09,235 INFO status has been updated to accepted\n",
      "2025-06-11 17:02:23,062 INFO status has been updated to running\n",
      "2025-06-11 17:08:28,429 INFO status has been updated to successful\n",
      "                                                                                       \r"
     ]
    },
    {
     "name": "stdout",
     "output_type": "stream",
     "text": [
      "Downloading era5_2022\\goito_2022_12.nc...\n"
     ]
    },
    {
     "name": "stderr",
     "output_type": "stream",
     "text": [
      "2025-06-11 17:08:34,511 INFO Request ID is 59df156a-8f5d-4bc6-9d1d-7b592816279d\n",
      "2025-06-11 17:08:34,588 INFO status has been updated to accepted\n",
      "2025-06-11 17:08:56,023 INFO status has been updated to running\n",
      "2025-06-11 17:16:59,338 INFO status has been updated to successful\n",
      "                                                                                       \r"
     ]
    },
    {
     "name": "stdout",
     "output_type": "stream",
     "text": [
      "✅ Download completed for all months.\n"
     ]
    }
   ],
   "source": [
    "import cdsapi\n",
    "import os\n",
    "import time\n",
    "\n",
    "# Initialize CDS API client\n",
    "client = cdsapi.Client()\n",
    "\n",
    "year = 2022\n",
    "dataset = \"reanalysis-era5-land\"\n",
    "variables = [\n",
    "    \"2m_dewpoint_temperature\",\n",
    "    \"2m_temperature\",\n",
    "    \"surface_pressure\",\n",
    "    \"total_precipitation\"\n",
    "]\n",
    "times = [f\"{hour:02d}:00\" for hour in range(24)]  # All 24 hours\n",
    "\n",
    "# Corrected area: [North, West, South, East]\n",
    "area = [45.196, 11.045, 45.195, 11.046]#est sempre più alto di west, così come per nord vs sud \n",
    "#inserire coordinate da Dario in questo modo: da excel mettere latitudine al posto del sud e fare in modo che la nord sia più elevata. per la longitudine\n",
    "# mettere il valore di dario al posto della long west e per la est fare in modo che sia più grande della west\n",
    "\n",
    "# Create output directory\n",
    "output_dir = f\"era5_{year}\"\n",
    "os.makedirs(output_dir, exist_ok=True)\n",
    "\n",
    "# Days in each month (handling leap year)\n",
    "def get_days(month, year):\n",
    "    if month in [1, 3, 5, 7, 8, 10, 12]:\n",
    "        return [f\"{day:02d}\" for day in range(1, 32)]\n",
    "    elif month in [4, 6, 9, 11]:\n",
    "        return [f\"{day:02d}\" for day in range(1, 31)]\n",
    "    else:  # February, leap year check\n",
    "        if (year % 400 == 0) or (year % 4 == 0 and year % 100 != 0):\n",
    "            return [f\"{day:02d}\" for day in range(1, 30)]\n",
    "        else:\n",
    "            return [f\"{day:02d}\" for day in range(1, 29)]\n",
    "\n",
    "for month in range(1, 13):\n",
    "    month_str = f\"{month:02d}\"\n",
    "    days = get_days(month, year)\n",
    "\n",
    "    request = {\n",
    "        \"variable\": variables,\n",
    "        \"year\": str(year),\n",
    "        \"month\": month_str,\n",
    "        \"day\": days,\n",
    "        \"time\": times,\n",
    "        \"format\": \"netcdf\",\n",
    "        \"area\": area,\n",
    "    }\n",
    "\n",
    "    filename = os.path.join(output_dir, f\"sorga_{year}_{month_str}.nc\")\n",
    "    print(f\"Downloading {filename}...\")\n",
    "\n",
    "    try:\n",
    "        client.retrieve(dataset, request).download(filename)\n",
    "        filesize = os.path.getsize(filename)\n",
    "        if filesize < 100_000:\n",
    "            print(f\"⚠️ Warning: {filename} is only {filesize} bytes — might be invalid or incomplete.\")\n",
    "    except Exception as e:\n",
    "        print(f\"❌ Failed to download {filename}: {e}\")\n",
    "\n",
    "    time.sleep(5)  # Pause 5 seconds between downloads to be polite\n",
    "\n",
    "print(\"✅ Download completed for all months.\")"
   ]
  }
 ],
 "metadata": {
  "kernelspec": {
   "display_name": "Python 3",
   "language": "python",
   "name": "python3"
  },
  "language_info": {
   "codemirror_mode": {
    "name": "ipython",
    "version": 3
   },
   "file_extension": ".py",
   "mimetype": "text/x-python",
   "name": "python",
   "nbconvert_exporter": "python",
   "pygments_lexer": "ipython3",
   "version": "3.11.5"
  }
 },
 "nbformat": 4,
 "nbformat_minor": 5
}
