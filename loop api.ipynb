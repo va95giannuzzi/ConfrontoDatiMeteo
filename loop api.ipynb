{
 "cells": [
  {
   "cell_type": "code",
   "execution_count": 1,
   "id": "0afde22f",
   "metadata": {},
   "outputs": [
    {
     "name": "stderr",
     "output_type": "stream",
     "text": [
      "2025-06-09 11:45:09,309 INFO [2024-09-26T00:00:00] Watch our [Forum](https://forum.ecmwf.int/) for Announcements, news and other discussed topics.\n"
     ]
    },
    {
     "name": "stdout",
     "output_type": "stream",
     "text": [
      "Downloading era5_2022\\ospe_euganeo_2022_01.nc...\n"
     ]
    },
    {
     "name": "stderr",
     "output_type": "stream",
     "text": [
      "2025-06-09 11:45:09,744 INFO Request ID is 64868dc2-d9c8-4513-84e8-2a18f41b194e\n",
      "2025-06-09 11:45:09,843 INFO status has been updated to accepted\n",
      "2025-06-09 11:47:04,043 INFO status has been updated to running\n",
      "2025-06-09 12:25:44,664 INFO status has been updated to successful\n",
      "                                                                                       \r"
     ]
    },
    {
     "name": "stdout",
     "output_type": "stream",
     "text": [
      "Downloading era5_2022\\ospe_euganeo_2022_02.nc...\n"
     ]
    },
    {
     "name": "stderr",
     "output_type": "stream",
     "text": [
      "2025-06-09 12:25:50,980 INFO Request ID is 1ea0da02-c122-4e78-8ec6-4cf19cdb8119\n",
      "2025-06-09 12:25:51,106 INFO status has been updated to accepted\n",
      "2025-06-09 12:25:59,592 INFO status has been updated to running\n",
      "2025-06-09 12:32:10,525 INFO status has been updated to successful\n",
      "                                                                                       \r"
     ]
    },
    {
     "name": "stdout",
     "output_type": "stream",
     "text": [
      "Downloading era5_2022\\ospe_euganeo_2022_03.nc...\n"
     ]
    },
    {
     "name": "stderr",
     "output_type": "stream",
     "text": [
      "2025-06-09 12:32:16,829 INFO Request ID is 1aab690b-122f-4c69-bf21-62c587346bdb\n",
      "2025-06-09 12:32:16,922 INFO status has been updated to accepted\n",
      "2025-06-09 12:32:25,456 INFO status has been updated to running\n",
      "2025-06-09 12:42:36,862 INFO status has been updated to successful\n",
      "                                                                                       \r"
     ]
    },
    {
     "name": "stdout",
     "output_type": "stream",
     "text": [
      "Downloading era5_2022\\ospe_euganeo_2022_04.nc...\n"
     ]
    },
    {
     "name": "stderr",
     "output_type": "stream",
     "text": [
      "2025-06-09 12:42:42,905 INFO Request ID is 4b781e57-1439-40d3-87b7-9b8665355e63\n",
      "2025-06-09 12:42:42,996 INFO status has been updated to accepted\n",
      "2025-06-09 12:42:56,624 INFO status has been updated to running\n",
      "2025-06-09 12:53:03,925 INFO status has been updated to successful\n",
      "                                                                                       \r"
     ]
    },
    {
     "name": "stdout",
     "output_type": "stream",
     "text": [
      "Downloading era5_2022\\ospe_euganeo_2022_05.nc...\n"
     ]
    },
    {
     "name": "stderr",
     "output_type": "stream",
     "text": [
      "2025-06-09 12:53:09,932 INFO Request ID is 44c6ca79-9b39-4b55-bd09-9d7b51bc26b0\n",
      "2025-06-09 12:53:10,139 INFO status has been updated to accepted\n",
      "2025-06-09 12:53:24,158 INFO status has been updated to running\n",
      "2025-06-09 13:01:30,179 INFO status has been updated to successful\n",
      "                                                                                       \r"
     ]
    },
    {
     "name": "stdout",
     "output_type": "stream",
     "text": [
      "Downloading era5_2022\\ospe_euganeo_2022_06.nc...\n"
     ]
    },
    {
     "name": "stderr",
     "output_type": "stream",
     "text": [
      "2025-06-09 13:01:36,369 INFO Request ID is b5b56ed9-4ca2-4ab8-8bcb-85a976503d27\n",
      "2025-06-09 13:01:36,446 INFO status has been updated to accepted\n",
      "2025-06-09 13:02:09,354 INFO status has been updated to running\n",
      "2025-06-09 13:10:01,067 INFO status has been updated to successful\n",
      "                                                                                       \r"
     ]
    },
    {
     "name": "stdout",
     "output_type": "stream",
     "text": [
      "Downloading era5_2022\\ospe_euganeo_2022_07.nc...\n"
     ]
    },
    {
     "name": "stderr",
     "output_type": "stream",
     "text": [
      "2025-06-09 13:10:07,453 INFO Request ID is 3e16e9eb-1103-4478-8bd8-a5fb29b0fcc5\n",
      "2025-06-09 13:10:07,534 INFO status has been updated to accepted\n",
      "2025-06-09 13:10:29,159 INFO status has been updated to running\n",
      "2025-06-09 13:18:27,641 INFO status has been updated to successful\n",
      "                                                                                       \r"
     ]
    },
    {
     "name": "stdout",
     "output_type": "stream",
     "text": [
      "Downloading era5_2022\\ospe_euganeo_2022_08.nc...\n"
     ]
    },
    {
     "name": "stderr",
     "output_type": "stream",
     "text": [
      "2025-06-09 13:18:33,957 INFO Request ID is 5a251c6a-6218-4d6d-a8b2-0da0bf3d4d0a\n",
      "2025-06-09 13:18:34,045 INFO status has been updated to accepted\n",
      "2025-06-09 13:19:50,226 INFO status has been updated to running\n",
      "2025-06-09 13:28:54,229 INFO status has been updated to successful\n",
      "                                                                                       \r"
     ]
    },
    {
     "name": "stdout",
     "output_type": "stream",
     "text": [
      "Downloading era5_2022\\ospe_euganeo_2022_09.nc...\n"
     ]
    },
    {
     "name": "stderr",
     "output_type": "stream",
     "text": [
      "2025-06-09 13:29:00,953 INFO Request ID is 7ed643d4-111d-4bd9-aefd-2aee1317cd2f\n",
      "2025-06-09 13:29:01,031 INFO status has been updated to accepted\n",
      "2025-06-09 13:29:51,112 INFO status has been updated to running\n",
      "2025-06-09 13:37:25,784 INFO status has been updated to successful\n",
      "                                                                                       \r"
     ]
    },
    {
     "name": "stdout",
     "output_type": "stream",
     "text": [
      "Downloading era5_2022\\ospe_euganeo_2022_10.nc...\n"
     ]
    },
    {
     "name": "stderr",
     "output_type": "stream",
     "text": [
      "2025-06-09 13:37:32,453 INFO Request ID is 211ef6ba-131e-4991-9d9f-1a004dd427b2\n",
      "2025-06-09 13:37:32,536 INFO status has been updated to accepted\n",
      "2025-06-09 13:37:56,505 INFO status has been updated to running\n",
      "2025-06-09 13:45:55,650 INFO status has been updated to successful\n",
      "                                                                                      \r"
     ]
    },
    {
     "name": "stdout",
     "output_type": "stream",
     "text": [
      "Downloading era5_2022\\ospe_euganeo_2022_11.nc...\n"
     ]
    },
    {
     "name": "stderr",
     "output_type": "stream",
     "text": [
      "2025-06-09 13:46:01,699 INFO Request ID is b069bb13-5763-41c6-ae13-28efd2cd5a86\n",
      "2025-06-09 13:46:01,820 INFO status has been updated to accepted\n",
      "2025-06-09 13:46:23,412 INFO status has been updated to running\n",
      "2025-06-09 13:52:21,173 INFO status has been updated to successful\n",
      "                                                                                       \r"
     ]
    },
    {
     "name": "stdout",
     "output_type": "stream",
     "text": [
      "Downloading era5_2022\\ospe_euganeo_2022_12.nc...\n"
     ]
    },
    {
     "name": "stderr",
     "output_type": "stream",
     "text": [
      "2025-06-09 13:52:27,803 INFO Request ID is 98ac0159-c4c7-4a6e-9f12-45db3a93cdfd\n",
      "2025-06-09 13:52:27,898 INFO status has been updated to accepted\n",
      "2025-06-09 13:52:49,191 INFO status has been updated to running\n",
      "2025-06-09 14:00:47,536 INFO status has been updated to successful\n",
      "                                                                                       \r"
     ]
    },
    {
     "name": "stdout",
     "output_type": "stream",
     "text": [
      "✅ Download completed for all months.\n"
     ]
    }
   ],
   "source": [
    "import cdsapi\n",
    "import os\n",
    "import time\n",
    "\n",
    "# Initialize CDS API client\n",
    "client = cdsapi.Client()\n",
    "\n",
    "year = 2022\n",
    "dataset = \"reanalysis-era5-land\"\n",
    "variables = [\n",
    "    \"2m_dewpoint_temperature\",\n",
    "    \"2m_temperature\",\n",
    "    \"surface_pressure\",\n",
    "    \"total_precipitation\"\n",
    "]\n",
    "times = [f\"{hour:02d}:00\" for hour in range(24)]  # All 24 hours\n",
    "\n",
    "# Corrected area: [North, West, South, East]\n",
    "area = [45.224, 11.60, 45.223, 11.61]#est sempre più alto di west, così come per nord vs sud \n",
    "#inserire coordinate da Dario in questo modo: da excel mettere latitudine al posto del sud e fare in modo che la nord sia più elevata. per la longitudine\n",
    "# mettere il valore di dario al posto della long west e per la est fare in modo che sia più grande della west\n",
    "\n",
    "# Create output directory\n",
    "output_dir = f\"era5_{year}\"\n",
    "os.makedirs(output_dir, exist_ok=True)\n",
    "\n",
    "# Days in each month (handling leap year)\n",
    "def get_days(month, year):\n",
    "    if month in [1, 3, 5, 7, 8, 10, 12]:\n",
    "        return [f\"{day:02d}\" for day in range(1, 32)]\n",
    "    elif month in [4, 6, 9, 11]:\n",
    "        return [f\"{day:02d}\" for day in range(1, 31)]\n",
    "    else:  # February, leap year check\n",
    "        if (year % 400 == 0) or (year % 4 == 0 and year % 100 != 0):\n",
    "            return [f\"{day:02d}\" for day in range(1, 30)]\n",
    "        else:\n",
    "            return [f\"{day:02d}\" for day in range(1, 29)]\n",
    "\n",
    "for month in range(1, 13):\n",
    "    month_str = f\"{month:02d}\"\n",
    "    days = get_days(month, year)\n",
    "\n",
    "    request = {\n",
    "        \"variable\": variables,\n",
    "        \"year\": str(year),\n",
    "        \"month\": month_str,\n",
    "        \"day\": days,\n",
    "        \"time\": times,\n",
    "        \"format\": \"netcdf\",\n",
    "        \"area\": area,\n",
    "    }\n",
    "\n",
    "    filename = os.path.join(output_dir, f\"ospe_euganeo_{year}_{month_str}.nc\")\n",
    "    print(f\"Downloading {filename}...\")\n",
    "\n",
    "    try:\n",
    "        client.retrieve(dataset, request).download(filename)\n",
    "        filesize = os.path.getsize(filename)\n",
    "        if filesize < 100_000:\n",
    "            print(f\"⚠️ Warning: {filename} is only {filesize} bytes — might be invalid or incomplete.\")\n",
    "    except Exception as e:\n",
    "        print(f\"❌ Failed to download {filename}: {e}\")\n",
    "\n",
    "    time.sleep(5)  # Pause 5 seconds between downloads to be polite\n",
    "\n",
    "print(\"✅ Download completed for all months.\")"
   ]
  }
 ],
 "metadata": {
  "kernelspec": {
   "display_name": "Python 3",
   "language": "python",
   "name": "python3"
  },
  "language_info": {
   "codemirror_mode": {
    "name": "ipython",
    "version": 3
   },
   "file_extension": ".py",
   "mimetype": "text/x-python",
   "name": "python",
   "nbconvert_exporter": "python",
   "pygments_lexer": "ipython3",
   "version": "3.11.5"
  }
 },
 "nbformat": 4,
 "nbformat_minor": 5
}
