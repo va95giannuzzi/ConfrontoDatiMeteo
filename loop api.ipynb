{
 "cells": [
  {
   "cell_type": "code",
   "execution_count": 3,
   "id": "0afde22f",
   "metadata": {},
   "outputs": [
    {
     "name": "stderr",
     "output_type": "stream",
     "text": [
      "2025-06-12 14:52:33,024 INFO [2025-06-10T00:00:00] To improve our C3S service, we need to hear from you! Please complete this very short [survey](https://confluence.ecmwf.int/x/E7uBEQ/). Thank you.\n",
      "2025-06-12 14:52:33,025 INFO [2024-09-26T00:00:00] Watch our [Forum](https://forum.ecmwf.int/) for Announcements, news and other discussed topics.\n"
     ]
    },
    {
     "name": "stdout",
     "output_type": "stream",
     "text": [
      "Downloading era5_2022\\cenesi_2022_01.nc...\n"
     ]
    },
    {
     "name": "stderr",
     "output_type": "stream",
     "text": [
      "2025-06-12 14:52:33,366 INFO Request ID is 5e49957b-c8d6-47c1-a9a1-5504b2ca2a12\n",
      "2025-06-12 14:52:33,463 INFO status has been updated to accepted\n",
      "2025-06-12 14:56:52,599 INFO status has been updated to running\n",
      "2025-06-12 15:02:53,187 INFO status has been updated to successful\n",
      "                                                                                       \r"
     ]
    },
    {
     "name": "stdout",
     "output_type": "stream",
     "text": [
      "Downloading era5_2022\\cenesi_2022_02.nc...\n"
     ]
    },
    {
     "name": "stderr",
     "output_type": "stream",
     "text": [
      "2025-06-12 15:02:59,061 INFO Request ID is 5bb91570-a057-4a6a-bdfb-184efe9c362d\n",
      "2025-06-12 15:02:59,190 INFO status has been updated to accepted\n",
      "2025-06-12 15:03:07,648 INFO status has been updated to running\n",
      "2025-06-12 15:05:51,158 INFO status has been updated to accepted\n",
      "2025-06-12 15:09:18,396 INFO status has been updated to running\n",
      "2025-06-12 15:15:19,981 INFO status has been updated to successful\n",
      "                                                                                       \r"
     ]
    },
    {
     "name": "stdout",
     "output_type": "stream",
     "text": [
      "Downloading era5_2022\\cenesi_2022_03.nc...\n"
     ]
    },
    {
     "name": "stderr",
     "output_type": "stream",
     "text": [
      "2025-06-12 15:15:26,185 INFO Request ID is 6160cf03-19c2-4942-9713-2cbe4f7c963f\n",
      "2025-06-12 15:15:26,321 INFO status has been updated to accepted\n",
      "2025-06-12 15:15:32,019 INFO status has been updated to running\n",
      "2025-06-12 15:23:52,724 INFO status has been updated to successful\n",
      "                                                                                       \r"
     ]
    },
    {
     "name": "stdout",
     "output_type": "stream",
     "text": [
      "Downloading era5_2022\\cenesi_2022_04.nc...\n"
     ]
    },
    {
     "name": "stderr",
     "output_type": "stream",
     "text": [
      "2025-06-12 15:23:59,030 INFO Request ID is 007844c3-58c5-4ee9-a5a4-fd5045a8407b\n",
      "2025-06-12 15:23:59,156 INFO status has been updated to accepted\n",
      "2025-06-12 15:24:04,146 INFO status has been updated to running\n",
      "2025-06-12 15:32:18,800 INFO status has been updated to successful\n",
      "2025-06-12 15:32:24,625 INFO Request ID is fedfb524-bc2d-4376-96c2-89d9fd134d63        \n"
     ]
    },
    {
     "name": "stdout",
     "output_type": "stream",
     "text": [
      "Downloading era5_2022\\cenesi_2022_05.nc...\n"
     ]
    },
    {
     "name": "stderr",
     "output_type": "stream",
     "text": [
      "2025-06-12 15:32:24,726 INFO status has been updated to accepted\n",
      "2025-06-12 15:32:29,750 INFO status has been updated to running\n",
      "2025-06-12 15:40:44,328 INFO status has been updated to successful\n",
      "                                                                                       \r"
     ]
    },
    {
     "name": "stdout",
     "output_type": "stream",
     "text": [
      "Downloading era5_2022\\cenesi_2022_06.nc...\n"
     ]
    },
    {
     "name": "stderr",
     "output_type": "stream",
     "text": [
      "2025-06-12 15:40:51,433 INFO Request ID is 3b7f13d4-60d4-4c14-b4cb-57373fb63a4f\n",
      "2025-06-12 15:40:52,091 INFO status has been updated to accepted\n",
      "2025-06-12 15:41:00,718 INFO status has been updated to running\n",
      "2025-06-12 15:49:12,318 INFO status has been updated to successful\n",
      "                                                                                      \r"
     ]
    },
    {
     "name": "stdout",
     "output_type": "stream",
     "text": [
      "Downloading era5_2022\\cenesi_2022_07.nc...\n"
     ]
    },
    {
     "name": "stderr",
     "output_type": "stream",
     "text": [
      "2025-06-12 15:49:18,883 INFO Request ID is e1cdcf24-12af-41e0-87ac-b285a45469f7\n",
      "2025-06-12 15:49:19,992 INFO status has been updated to accepted\n",
      "2025-06-12 15:49:29,199 INFO status has been updated to running\n",
      "2025-06-12 15:59:40,249 INFO status has been updated to successful\n",
      "                                                                                       \r"
     ]
    },
    {
     "name": "stdout",
     "output_type": "stream",
     "text": [
      "Downloading era5_2022\\cenesi_2022_08.nc...\n"
     ]
    },
    {
     "name": "stderr",
     "output_type": "stream",
     "text": [
      "2025-06-12 15:59:46,241 INFO Request ID is d28f0a26-edfa-4093-bcd1-60394b8f5229\n",
      "2025-06-12 15:59:46,321 INFO status has been updated to accepted\n",
      "2025-06-12 15:59:59,963 INFO status has been updated to running\n",
      "2025-06-12 16:10:07,134 INFO status has been updated to successful\n",
      "                                                                                       \r"
     ]
    },
    {
     "name": "stdout",
     "output_type": "stream",
     "text": [
      "Downloading era5_2022\\cenesi_2022_09.nc...\n"
     ]
    },
    {
     "name": "stderr",
     "output_type": "stream",
     "text": [
      "2025-06-12 16:10:12,986 INFO Request ID is ebe0ccee-7400-49c4-a6f8-cb8fa64793d9\n",
      "2025-06-12 16:10:13,077 INFO status has been updated to accepted\n",
      "2025-06-12 16:10:34,410 INFO status has been updated to running\n",
      "2025-06-12 16:18:32,821 INFO status has been updated to successful\n",
      "                                                                                       \r"
     ]
    },
    {
     "name": "stdout",
     "output_type": "stream",
     "text": [
      "Downloading era5_2022\\cenesi_2022_10.nc...\n"
     ]
    },
    {
     "name": "stderr",
     "output_type": "stream",
     "text": [
      "2025-06-12 16:18:39,545 INFO Request ID is ef928112-b181-4955-b739-9faf30e31458\n",
      "2025-06-12 16:18:39,652 INFO status has been updated to accepted\n",
      "2025-06-12 16:18:53,461 INFO status has been updated to running\n",
      "2025-06-12 16:27:01,853 INFO status has been updated to successful\n",
      "                                                                                       \r"
     ]
    },
    {
     "name": "stdout",
     "output_type": "stream",
     "text": [
      "Downloading era5_2022\\cenesi_2022_11.nc...\n"
     ]
    },
    {
     "name": "stderr",
     "output_type": "stream",
     "text": [
      "2025-06-12 16:27:08,030 INFO Request ID is 39163e7e-dceb-4374-98b0-b1ace89892d5\n",
      "2025-06-12 16:27:08,120 INFO status has been updated to accepted\n",
      "2025-06-12 16:27:29,579 INFO status has been updated to running\n",
      "2025-06-12 16:35:27,556 INFO status has been updated to successful\n",
      "                                                                                       \r"
     ]
    },
    {
     "name": "stdout",
     "output_type": "stream",
     "text": [
      "Downloading era5_2022\\cenesi_2022_12.nc...\n"
     ]
    },
    {
     "name": "stderr",
     "output_type": "stream",
     "text": [
      "2025-06-12 16:35:33,493 INFO Request ID is 0fc7310e-2273-4362-8a4b-c2faf9375fe6\n",
      "2025-06-12 16:35:33,581 INFO status has been updated to accepted\n",
      "2025-06-12 16:36:24,050 INFO status has been updated to running\n",
      "2025-06-12 16:43:54,060 INFO status has been updated to successful\n",
      "                                                                                      \r"
     ]
    },
    {
     "name": "stdout",
     "output_type": "stream",
     "text": [
      "✅ Download completed for all months.\n"
     ]
    }
   ],
   "source": [
    "import cdsapi\n",
    "import os\n",
    "import time\n",
    "\n",
    "# Initialize CDS API client\n",
    "client = cdsapi.Client()\n",
    "\n",
    "year = 2022\n",
    "dataset = \"reanalysis-era5-land\"\n",
    "variables = [\n",
    "    \"2m_dewpoint_temperature\",\n",
    "    \"2m_temperature\",\n",
    "    \"surface_pressure\",\n",
    "    \"total_precipitation\"\n",
    "]\n",
    "times = [f\"{hour:02d}:00\" for hour in range(24)]  # All 24 hours\n",
    "\n",
    "# Corrected area: [North, West, South, East]\n",
    "area = [44.077, 8.13421, 44.07678, 8.135]#est sempre più alto di west, così come per nord vs sud \n",
    "#inserire coordinate da Dario in questo modo: da excel mettere latitudine al posto del sud e fare in modo che la nord sia più elevata. per la longitudine\n",
    "# mettere il valore di dario al posto della long west e per la est fare in modo che sia più grande della west\n",
    "\n",
    "# Create output directory\n",
    "output_dir = f\"era5_{year}\"\n",
    "os.makedirs(output_dir, exist_ok=True)\n",
    "\n",
    "# Days in each month (handling leap year)\n",
    "def get_days(month, year):\n",
    "    if month in [1, 3, 5, 7, 8, 10, 12]:\n",
    "        return [f\"{day:02d}\" for day in range(1, 32)]\n",
    "    elif month in [4, 6, 9, 11]:\n",
    "        return [f\"{day:02d}\" for day in range(1, 31)]\n",
    "    else:  # February, leap year check\n",
    "        if (year % 400 == 0) or (year % 4 == 0 and year % 100 != 0):\n",
    "            return [f\"{day:02d}\" for day in range(1, 30)]\n",
    "        else:\n",
    "            return [f\"{day:02d}\" for day in range(1, 29)]\n",
    "\n",
    "for month in range(1, 13):\n",
    "    month_str = f\"{month:02d}\"\n",
    "    days = get_days(month, year)\n",
    "\n",
    "    request = {\n",
    "        \"variable\": variables,\n",
    "        \"year\": str(year),\n",
    "        \"month\": month_str,\n",
    "        \"day\": days,\n",
    "        \"time\": times,\n",
    "        \"format\": \"netcdf\",\n",
    "        \"area\": area,\n",
    "    }\n",
    "\n",
    "    filename = os.path.join(output_dir, f\"cenesi_{year}_{month_str}.nc\")\n",
    "    print(f\"Downloading {filename}...\")\n",
    "\n",
    "    try:\n",
    "        client.retrieve(dataset, request).download(filename)\n",
    "        filesize = os.path.getsize(filename)\n",
    "        if filesize < 100_000:\n",
    "            print(f\"⚠️ Warning: {filename} is only {filesize} bytes — might be invalid or incomplete.\")\n",
    "    except Exception as e:\n",
    "        print(f\"❌ Failed to download {filename}: {e}\")\n",
    "\n",
    "    time.sleep(5)  # Pause 5 seconds between downloads to be polite\n",
    "\n",
    "print(\"✅ Download completed for all months.\")"
   ]
  }
 ],
 "metadata": {
  "kernelspec": {
   "display_name": "Python 3",
   "language": "python",
   "name": "python3"
  },
  "language_info": {
   "codemirror_mode": {
    "name": "ipython",
    "version": 3
   },
   "file_extension": ".py",
   "mimetype": "text/x-python",
   "name": "python",
   "nbconvert_exporter": "python",
   "pygments_lexer": "ipython3",
   "version": "3.11.5"
  }
 },
 "nbformat": 4,
 "nbformat_minor": 5
}
